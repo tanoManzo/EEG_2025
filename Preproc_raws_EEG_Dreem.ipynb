{
  "cells": [
    {
      "cell_type": "markdown",
      "metadata": {
        "id": "view-in-github",
        "colab_type": "text"
      },
      "source": [
        "<a href=\"https://colab.research.google.com/github/tanoManzo/EEG_2025/blob/main/Preproc_raws_EEG_Dreem.ipynb\" target=\"_parent\"><img src=\"https://colab.research.google.com/assets/colab-badge.svg\" alt=\"Open In Colab\"/></a>"
      ]
    },
    {
      "cell_type": "markdown",
      "metadata": {
        "id": "5WDYPW8SRrsM"
      },
      "source": [
        "# Clean Preprocessing Script for EEG Dreem data\n",
        "\n",
        "This script is a pre-processing script to be used on EEG Dreem data in order to do\n",
        "\n",
        "1. Data visualization (of saved signals)\n",
        "2. Epoching & visual artefact rejection\n",
        "3. Power spectrum analysis with average referencing\n",
        "4. Save file with best electrode only\n",
        "\n",
        "written by Ruxandra Tivadar\n",
        "(+ annoted by Nina Rimorini)\n",
        "\n",
        "\n",
        "P.S. Good little helpers are included:\n",
        "\n",
        "-Check this link for an explanation of the computations behind data pre-processing steps and a suggestion of\n",
        "the order you should apply these in\n",
        "https://erpinfo.org/order-of-steps\n",
        "\n",
        "-Check this link for an interesting discussion regarding filters\n",
        "https://sapienlabs.org/pitfalls-of-filtering-the-eeg-signal/\n",
        "\n",
        "mne.tools #resampling setups"
      ]
    },
    {
      "cell_type": "code",
      "source": [
        "from google.colab import drive\n",
        "drive.mount('/content/drive')"
      ],
      "metadata": {
        "id": "n0hniPGfgBIY",
        "outputId": "9e7bc5bc-aa0c-458e-cf03-6eb24c4fc444",
        "colab": {
          "base_uri": "https://localhost:8080/"
        }
      },
      "execution_count": 1,
      "outputs": [
        {
          "output_type": "stream",
          "name": "stdout",
          "text": [
            "Mounted at /content/drive\n"
          ]
        }
      ]
    },
    {
      "cell_type": "code",
      "source": [
        "!pip install mne\n",
        "!pip install pycrostates"
      ],
      "metadata": {
        "colab": {
          "base_uri": "https://localhost:8080/"
        },
        "id": "PU46lbUTR79g",
        "outputId": "30961137-0f27-42b5-ebe4-2bda41d249c5"
      },
      "execution_count": 2,
      "outputs": [
        {
          "output_type": "stream",
          "name": "stdout",
          "text": [
            "Collecting mne\n",
            "  Downloading mne-1.9.0-py3-none-any.whl.metadata (20 kB)\n",
            "Requirement already satisfied: decorator in /usr/local/lib/python3.11/dist-packages (from mne) (4.4.2)\n",
            "Requirement already satisfied: jinja2 in /usr/local/lib/python3.11/dist-packages (from mne) (3.1.6)\n",
            "Requirement already satisfied: lazy-loader>=0.3 in /usr/local/lib/python3.11/dist-packages (from mne) (0.4)\n",
            "Requirement already satisfied: matplotlib>=3.6 in /usr/local/lib/python3.11/dist-packages (from mne) (3.10.0)\n",
            "Requirement already satisfied: numpy<3,>=1.23 in /usr/local/lib/python3.11/dist-packages (from mne) (1.26.4)\n",
            "Requirement already satisfied: packaging in /usr/local/lib/python3.11/dist-packages (from mne) (24.2)\n",
            "Requirement already satisfied: pooch>=1.5 in /usr/local/lib/python3.11/dist-packages (from mne) (1.8.2)\n",
            "Requirement already satisfied: scipy>=1.9 in /usr/local/lib/python3.11/dist-packages (from mne) (1.14.1)\n",
            "Requirement already satisfied: tqdm in /usr/local/lib/python3.11/dist-packages (from mne) (4.67.1)\n",
            "Requirement already satisfied: contourpy>=1.0.1 in /usr/local/lib/python3.11/dist-packages (from matplotlib>=3.6->mne) (1.3.1)\n",
            "Requirement already satisfied: cycler>=0.10 in /usr/local/lib/python3.11/dist-packages (from matplotlib>=3.6->mne) (0.12.1)\n",
            "Requirement already satisfied: fonttools>=4.22.0 in /usr/local/lib/python3.11/dist-packages (from matplotlib>=3.6->mne) (4.56.0)\n",
            "Requirement already satisfied: kiwisolver>=1.3.1 in /usr/local/lib/python3.11/dist-packages (from matplotlib>=3.6->mne) (1.4.8)\n",
            "Requirement already satisfied: pillow>=8 in /usr/local/lib/python3.11/dist-packages (from matplotlib>=3.6->mne) (11.1.0)\n",
            "Requirement already satisfied: pyparsing>=2.3.1 in /usr/local/lib/python3.11/dist-packages (from matplotlib>=3.6->mne) (3.2.1)\n",
            "Requirement already satisfied: python-dateutil>=2.7 in /usr/local/lib/python3.11/dist-packages (from matplotlib>=3.6->mne) (2.8.2)\n",
            "Requirement already satisfied: platformdirs>=2.5.0 in /usr/local/lib/python3.11/dist-packages (from pooch>=1.5->mne) (4.3.6)\n",
            "Requirement already satisfied: requests>=2.19.0 in /usr/local/lib/python3.11/dist-packages (from pooch>=1.5->mne) (2.32.3)\n",
            "Requirement already satisfied: MarkupSafe>=2.0 in /usr/local/lib/python3.11/dist-packages (from jinja2->mne) (3.0.2)\n",
            "Requirement already satisfied: six>=1.5 in /usr/local/lib/python3.11/dist-packages (from python-dateutil>=2.7->matplotlib>=3.6->mne) (1.17.0)\n",
            "Requirement already satisfied: charset-normalizer<4,>=2 in /usr/local/lib/python3.11/dist-packages (from requests>=2.19.0->pooch>=1.5->mne) (3.4.1)\n",
            "Requirement already satisfied: idna<4,>=2.5 in /usr/local/lib/python3.11/dist-packages (from requests>=2.19.0->pooch>=1.5->mne) (3.10)\n",
            "Requirement already satisfied: urllib3<3,>=1.21.1 in /usr/local/lib/python3.11/dist-packages (from requests>=2.19.0->pooch>=1.5->mne) (2.3.0)\n",
            "Requirement already satisfied: certifi>=2017.4.17 in /usr/local/lib/python3.11/dist-packages (from requests>=2.19.0->pooch>=1.5->mne) (2025.1.31)\n",
            "Downloading mne-1.9.0-py3-none-any.whl (7.4 MB)\n",
            "\u001b[2K   \u001b[90m━━━━━━━━━━━━━━━━━━━━━━━━━━━━━━━━━━━━━━━━\u001b[0m \u001b[32m7.4/7.4 MB\u001b[0m \u001b[31m36.3 MB/s\u001b[0m eta \u001b[36m0:00:00\u001b[0m\n",
            "\u001b[?25hInstalling collected packages: mne\n",
            "Successfully installed mne-1.9.0\n",
            "Collecting pycrostates\n",
            "  Downloading pycrostates-0.6.1-py3-none-any.whl.metadata (13 kB)\n",
            "Requirement already satisfied: decorator in /usr/local/lib/python3.11/dist-packages (from pycrostates) (4.4.2)\n",
            "Requirement already satisfied: jinja2 in /usr/local/lib/python3.11/dist-packages (from pycrostates) (3.1.6)\n",
            "Requirement already satisfied: joblib in /usr/local/lib/python3.11/dist-packages (from pycrostates) (1.4.2)\n",
            "Requirement already satisfied: matplotlib>=3.5 in /usr/local/lib/python3.11/dist-packages (from pycrostates) (3.10.0)\n",
            "Requirement already satisfied: mne>=1.2 in /usr/local/lib/python3.11/dist-packages (from pycrostates) (1.9.0)\n",
            "Requirement already satisfied: numpy>=1.21 in /usr/local/lib/python3.11/dist-packages (from pycrostates) (1.26.4)\n",
            "Requirement already satisfied: packaging in /usr/local/lib/python3.11/dist-packages (from pycrostates) (24.2)\n",
            "Requirement already satisfied: pooch in /usr/local/lib/python3.11/dist-packages (from pycrostates) (1.8.2)\n",
            "Requirement already satisfied: psutil in /usr/local/lib/python3.11/dist-packages (from pycrostates) (5.9.5)\n",
            "Requirement already satisfied: scikit-learn in /usr/local/lib/python3.11/dist-packages (from pycrostates) (1.6.1)\n",
            "Requirement already satisfied: scipy in /usr/local/lib/python3.11/dist-packages (from pycrostates) (1.14.1)\n",
            "Requirement already satisfied: contourpy>=1.0.1 in /usr/local/lib/python3.11/dist-packages (from matplotlib>=3.5->pycrostates) (1.3.1)\n",
            "Requirement already satisfied: cycler>=0.10 in /usr/local/lib/python3.11/dist-packages (from matplotlib>=3.5->pycrostates) (0.12.1)\n",
            "Requirement already satisfied: fonttools>=4.22.0 in /usr/local/lib/python3.11/dist-packages (from matplotlib>=3.5->pycrostates) (4.56.0)\n",
            "Requirement already satisfied: kiwisolver>=1.3.1 in /usr/local/lib/python3.11/dist-packages (from matplotlib>=3.5->pycrostates) (1.4.8)\n",
            "Requirement already satisfied: pillow>=8 in /usr/local/lib/python3.11/dist-packages (from matplotlib>=3.5->pycrostates) (11.1.0)\n",
            "Requirement already satisfied: pyparsing>=2.3.1 in /usr/local/lib/python3.11/dist-packages (from matplotlib>=3.5->pycrostates) (3.2.1)\n",
            "Requirement already satisfied: python-dateutil>=2.7 in /usr/local/lib/python3.11/dist-packages (from matplotlib>=3.5->pycrostates) (2.8.2)\n",
            "Requirement already satisfied: lazy-loader>=0.3 in /usr/local/lib/python3.11/dist-packages (from mne>=1.2->pycrostates) (0.4)\n",
            "Requirement already satisfied: tqdm in /usr/local/lib/python3.11/dist-packages (from mne>=1.2->pycrostates) (4.67.1)\n",
            "Requirement already satisfied: platformdirs>=2.5.0 in /usr/local/lib/python3.11/dist-packages (from pooch->pycrostates) (4.3.6)\n",
            "Requirement already satisfied: requests>=2.19.0 in /usr/local/lib/python3.11/dist-packages (from pooch->pycrostates) (2.32.3)\n",
            "Requirement already satisfied: MarkupSafe>=2.0 in /usr/local/lib/python3.11/dist-packages (from jinja2->pycrostates) (3.0.2)\n",
            "Requirement already satisfied: threadpoolctl>=3.1.0 in /usr/local/lib/python3.11/dist-packages (from scikit-learn->pycrostates) (3.5.0)\n",
            "Requirement already satisfied: six>=1.5 in /usr/local/lib/python3.11/dist-packages (from python-dateutil>=2.7->matplotlib>=3.5->pycrostates) (1.17.0)\n",
            "Requirement already satisfied: charset-normalizer<4,>=2 in /usr/local/lib/python3.11/dist-packages (from requests>=2.19.0->pooch->pycrostates) (3.4.1)\n",
            "Requirement already satisfied: idna<4,>=2.5 in /usr/local/lib/python3.11/dist-packages (from requests>=2.19.0->pooch->pycrostates) (3.10)\n",
            "Requirement already satisfied: urllib3<3,>=1.21.1 in /usr/local/lib/python3.11/dist-packages (from requests>=2.19.0->pooch->pycrostates) (2.3.0)\n",
            "Requirement already satisfied: certifi>=2017.4.17 in /usr/local/lib/python3.11/dist-packages (from requests>=2.19.0->pooch->pycrostates) (2025.1.31)\n",
            "Downloading pycrostates-0.6.1-py3-none-any.whl (169 kB)\n",
            "\u001b[2K   \u001b[90m━━━━━━━━━━━━━━━━━━━━━━━━━━━━━━━━━━━━━━━━\u001b[0m \u001b[32m169.9/169.9 kB\u001b[0m \u001b[31m3.3 MB/s\u001b[0m eta \u001b[36m0:00:00\u001b[0m\n",
            "\u001b[?25hInstalling collected packages: pycrostates\n",
            "Successfully installed pycrostates-0.6.1\n"
          ]
        }
      ]
    },
    {
      "cell_type": "code",
      "execution_count": 3,
      "metadata": {
        "scrolled": true,
        "id": "F-51VGbDRrsN"
      },
      "outputs": [],
      "source": [
        "import warnings\n",
        "warnings.simplefilter(action='ignore', category=FutureWarning)\n",
        "\n",
        "import numpy as np\n",
        "import mne\n",
        "import os\n",
        "import matplotlib.pyplot as plt\n",
        "from mne.io import read_raw_fif, concatenate_raws\n",
        "import copy\n",
        "from scipy import signal\n",
        "from pycrostates.cluster import ModKMeans\n",
        "from pycrostates.preprocessing import extract_gfp_peaks"
      ]
    },
    {
      "cell_type": "markdown",
      "metadata": {
        "id": "tiU_ESLtRrsO"
      },
      "source": [
        "## 1. Data visualisation of saved signals"
      ]
    },
    {
      "cell_type": "code",
      "execution_count": 5,
      "metadata": {
        "colab": {
          "base_uri": "https://localhost:8080/",
          "height": 1000
        },
        "id": "1Al5xEmURrsP",
        "outputId": "b250eb47-4011-4de9-afc0-6c9bf28a4377"
      },
      "outputs": [
        {
          "output_type": "stream",
          "name": "stdout",
          "text": [
            "Opening raw data file /content/drive/MyDrive/HESSO/EEG_Project/data/EEG/test32_2_start.fif...\n"
          ]
        },
        {
          "output_type": "stream",
          "name": "stderr",
          "text": [
            "<ipython-input-5-9a1dba1cdf1b>:4: RuntimeWarning: This filename (/content/drive/MyDrive/HESSO/EEG_Project/data/EEG/test32_2_start.fif) does not conform to MNE naming conventions. All raw files should end with raw.fif, raw_sss.fif, raw_tsss.fif, _meg.fif, _eeg.fif, _ieeg.fif, raw.fif.gz, raw_sss.fif.gz, raw_tsss.fif.gz, _meg.fif.gz, _eeg.fif.gz or _ieeg.fif.gz\n",
            "  raw_data = read_raw_fif(\"/content/drive/MyDrive/HESSO/EEG_Project/data/EEG/test32_2_start.fif\", preload=True)\n"
          ]
        },
        {
          "output_type": "stream",
          "name": "stdout",
          "text": [
            "    Range : 39000 ... 69250 =    156.000 ...   277.000 secs\n",
            "Ready.\n",
            "Reading 0 ... 30250  =      0.000 ...   121.000 secs...\n",
            "Info:\n",
            "<Info | 11 non-empty values\n",
            " bads: []\n",
            " ch_names: F8, O1, O2, F7\n",
            " chs: 4 EEG\n",
            " custom_ref_applied: False\n",
            " dig: 7 items (3 Cardinal, 4 EEG)\n",
            " file_id: 4 items (dict)\n",
            " highpass: 0.1 Hz\n",
            " lowpass: 40.0 Hz\n",
            " meas_date: 2024-02-28 13:06:24 UTC\n",
            " meas_id: 4 items (dict)\n",
            " nchan: 4\n",
            " projs: []\n",
            " sfreq: 250.0 Hz\n",
            " subject_info: <subject_info | his_id: d3e90ef5-8513-41df-8d05-0bc4e1be4fb4>\n",
            ">\n",
            "Sensor Locations:\n"
          ]
        },
        {
          "output_type": "display_data",
          "data": {
            "text/plain": [
              "<Figure size 640x640 with 1 Axes>"
            ],
            "image/png": "[encoded data removed]"
          },
          "metadata": {}
        },
        {
          "output_type": "stream",
          "name": "stdout",
          "text": [
            "First few seconds:\n",
            "Using matplotlib as 2D backend.\n"
          ]
        },
        {
          "output_type": "display_data",
          "data": {
            "text/plain": [
              "<MNEBrowseFigure size 800x800 with 4 Axes>"
            ],
            "image/png": "[encoded data removed]"
          },
          "metadata": {}
        }
      ],
      "source": [
        "# Open and plot saved files\n",
        "\n",
        "# 1 = file\n",
        "raw_data = read_raw_fif(\"/content/drive/MyDrive/HESSO/EEG_Project/data/EEG/test32_2_start.fif\", preload=True)\n",
        "\n",
        "# 2 = visualize view_data\n",
        "# Print basic info\n",
        "print(\"Info:\")\n",
        "print(raw_data.info)\n",
        "\n",
        "print(\"Sensor Locations:\")\n",
        "# Plot sensor locations (if available)\n",
        "raw_data.plot_sensors(show_names=True)\n",
        "\n",
        "print(\"First few seconds:\")\n",
        "# Check first few seconds of the data\n",
        "raw_data.plot(duration=10, n_channels=4, scalings={'eeg': 75e-5})\n",
        "plt.close()"
      ]
    },
    {
      "cell_type": "markdown",
      "source": [
        "## 2. Basic Preprocessing"
      ],
      "metadata": {
        "id": "KiNmX160i17s"
      }
    },
    {
      "cell_type": "markdown",
      "source": [
        "Alternative Filter Ranges for Different Analyses\n",
        "Use Case\tHighpass (Hz)\tLowpass (Hz)\n",
        "\n",
        "General EEG analysis\t1\t30\n",
        "\n",
        "Sleep EEG (slow waves)\t0.1\t30\n",
        "\n",
        "ERP studies\t0.1 – 0.5\t40\n",
        "\n",
        "Gamma analysis\t1\t80 – 100\n"
      ],
      "metadata": {
        "id": "s6AVAuw9iWtR"
      }
    },
    {
      "cell_type": "code",
      "source": [
        "# Apply a bandpass filter between 1-30 Hz\n",
        "raw_data.filter(l_freq=1.0, h_freq=30.0)\n",
        "\n",
        "# Apply notch filter to remove 50Hz powerline noise (if necessary)\n",
        "raw_data.notch_filter(freqs=50)"
      ],
      "metadata": {
        "id": "c8CDa-5UgjmT",
        "outputId": "960d9ab3-0a8f-4ee6-d34c-8a64d07d59d8",
        "colab": {
          "base_uri": "https://localhost:8080/",
          "height": 927
        }
      },
      "execution_count": 7,
      "outputs": [
        {
          "output_type": "stream",
          "name": "stdout",
          "text": [
            "Filtering raw data in 1 contiguous segment\n",
            "Setting up band-pass filter from 1 - 30 Hz\n",
            "\n",
            "FIR filter parameters\n",
            "---------------------\n",
            "Designing a one-pass, zero-phase, non-causal bandpass filter:\n",
            "- Windowed time-domain design (firwin) method\n",
            "- Hamming window with 0.0194 passband ripple and 53 dB stopband attenuation\n",
            "- Lower passband edge: 1.00\n",
            "- Lower transition bandwidth: 1.00 Hz (-6 dB cutoff frequency: 0.50 Hz)\n",
            "- Upper passband edge: 30.00 Hz\n",
            "- Upper transition bandwidth: 7.50 Hz (-6 dB cutoff frequency: 33.75 Hz)\n",
            "- Filter length: 825 samples (3.300 s)\n",
            "\n",
            "Filtering raw data in 1 contiguous segment\n",
            "Setting up band-stop filter from 49 - 51 Hz\n",
            "\n",
            "FIR filter parameters\n",
            "---------------------\n",
            "Designing a one-pass, zero-phase, non-causal bandstop filter:\n",
            "- Windowed time-domain design (firwin) method\n",
            "- Hamming window with 0.0194 passband ripple and 53 dB stopband attenuation\n",
            "- Lower passband edge: 49.38\n",
            "- Lower transition bandwidth: 0.50 Hz (-6 dB cutoff frequency: 49.12 Hz)\n",
            "- Upper passband edge: 50.62 Hz\n",
            "- Upper transition bandwidth: 0.50 Hz (-6 dB cutoff frequency: 50.88 Hz)\n",
            "- Filter length: 1651 samples (6.604 s)\n",
            "\n"
          ]
        },
        {
          "output_type": "execute_result",
          "data": {
            "text/plain": [
              "<Raw | test32_2_start.fif, 4 x 30251 (121.0 s), ~958 KiB, data loaded>"
            ],
            "text/html": [
              "<script type=\"text/javascript\">\n",
              "    // must be `var` (not `const`) because this can get embedded multiple times on a page\n",
              "var toggleVisibility = (className) => {\n",
              "\n",
              "    const elements = document.querySelectorAll(`.${className}`);\n",
              "\n",
              "    elements.forEach(element => {\n",
              "        if (element.classList.contains(\"mne-repr-section-header\")) {\n",
              "            return  // Don't collapse the section header row\n",
              "        }\n",
              "        element.classList.toggle(\"mne-repr-collapsed\");\n",
              "    });\n",
              "\n",
              "    // trigger caret to rotate\n",
              "    var sel = `.mne-repr-section-header.${className} > th.mne-repr-section-toggle > button`;\n",
              "    const button = document.querySelector(sel);\n",
              "    button.classList.toggle(\"collapsed\");\n",
              "\n",
              "    // adjust tooltip\n",
              "    sel = `tr.mne-repr-section-header.${className}`;\n",
              "    const secHeadRow = document.querySelector(sel);\n",
              "    secHeadRow.classList.toggle(\"collapsed\");\n",
              "    secHeadRow.title = secHeadRow.title === \"Hide section\" ? \"Show section\" : \"Hide section\";\n",
              "}\n",
              "</script>\n",
              "\n",
              "<style type=\"text/css\">\n",
              "    /*\n",
              "Styles in this section apply both to the sphinx-built website docs and to notebooks\n",
              "rendered in an IDE or in Jupyter. In our web docs, styles here are complemented by\n",
              "doc/_static/styles.css and other CSS files (e.g. from the sphinx theme, sphinx-gallery,\n",
              "or bootstrap). In IDEs/Jupyter, those style files are unavailable, so only the rules in\n",
              "this file apply (plus whatever default styling the IDE applies).\n",
              "*/\n",
              ".mne-repr-table {\n",
              "    display: inline;  /* prevent using full container width */\n",
              "}\n",
              ".mne-repr-table tr.mne-repr-section-header > th {\n",
              "    padding-top: 1rem;\n",
              "    text-align: left;\n",
              "    vertical-align: middle;\n",
              "}\n",
              ".mne-repr-section-toggle > button {\n",
              "    all: unset;\n",
              "    display: block;\n",
              "    height: 1rem;\n",
              "    width: 1rem;\n",
              "}\n",
              ".mne-repr-section-toggle > button > svg {\n",
              "    height: 60%;\n",
              "}\n",
              "\n",
              "/* transition (rotation) effects on the collapser button */\n",
              ".mne-repr-section-toggle > button.collapsed > svg {\n",
              "    transition: 0.1s ease-out;\n",
              "    transform: rotate(-90deg);\n",
              "}\n",
              ".mne-repr-section-toggle > button:not(.collapsed) > svg {\n",
              "    transition: 0.1s ease-out;\n",
              "    transform: rotate(0deg);\n",
              "}\n",
              "\n",
              "/* hide collapsed table rows */\n",
              ".mne-repr-collapsed {\n",
              "    display: none;\n",
              "}\n",
              "\n",
              "\n",
              "@layer {\n",
              "    /*\n",
              "    Selectors in a `@layer` will always be lower-precedence than selectors outside the\n",
              "    layer. So even though e.g. `div.output_html` is present in the sphinx-rendered\n",
              "    website docs, the styles here won't take effect there as long as some other rule\n",
              "    somewhere in the page's CSS targets the same element.\n",
              "\n",
              "    In IDEs or Jupyter notebooks, though, the CSS files from the sphinx theme,\n",
              "    sphinx-gallery, and bootstrap are unavailable, so these styles will apply.\n",
              "\n",
              "    Notes:\n",
              "\n",
              "    - the selector `.accordion-body` is for MNE Reports\n",
              "    - the selector `.output_html` is for VSCode's notebook interface\n",
              "    - the selector `.jp-RenderedHTML` is for Jupyter notebook\n",
              "    - variables starting with `--theme-` are VSCode-specific.\n",
              "    - variables starting with `--jp-` are Jupyter styles, *some of which* are also\n",
              "      available in VSCode. Here we try the `--theme-` variable first, then fall back to\n",
              "      the `--jp-` ones.\n",
              "    */\n",
              "    .mne-repr-table {\n",
              "        --mne-toggle-color: var(--theme-foreground, var(--jp-ui-font-color1));\n",
              "        --mne-button-bg-color: var(--theme-button-background, var(--jp-info-color0, var(--jp-content-link-color)));\n",
              "        --mne-button-fg-color: var(--theme-button-foreground, var(--jp-ui-inverse-font-color0, var(--jp-editor-background)));\n",
              "        --mne-button-hover-bg-color: var(--theme-button-hover-background, var(--jp-info-color1));\n",
              "        --mne-button-radius: var(--jp-border-radius, 0.25rem);\n",
              "    }\n",
              "    /* chevron position/alignment; in VSCode it looks ok without adjusting */\n",
              "    .accordion-body .mne-repr-section-toggle > button,\n",
              "    .jp-RenderedHTML .mne-repr-section-toggle > button {\n",
              "        padding: 0 0 45% 25% !important;\n",
              "    }\n",
              "    /* chevron color; MNE Report doesn't have light/dark mode */\n",
              "    div.output_html .mne-repr-section-toggle > button > svg > path,\n",
              "    .jp-RenderedHTML .mne-repr-section-toggle > button > svg > path {\n",
              "        fill: var(--mne-toggle-color);\n",
              "    }\n",
              "    .accordion-body .mne-ch-names-btn,\n",
              "    div.output_html .mne-ch-names-btn,\n",
              "    .jp-RenderedHTML .mne-ch-names-btn {\n",
              "        -webkit-border-radius: var(--mne-button-radius);\n",
              "        -moz-border-radius: var(--mne-button-radius);\n",
              "        border-radius: var(--mne-button-radius);\n",
              "        border: none;\n",
              "        background-image: none;\n",
              "        background-color: var(--mne-button-bg-color);\n",
              "        color: var(--mne-button-fg-color);\n",
              "        font-size: inherit;\n",
              "        min-width: 1.5rem;\n",
              "        padding: 0.25rem;\n",
              "        text-align: center;\n",
              "        text-decoration: none;\n",
              "    }\n",
              "    .accordion-body .mne-ch-names-btn:hover,\n",
              "    div.output_html .mne.ch-names-btn:hover,\n",
              "    .jp-RenderedHTML .mne-ch-names-btn:hover {\n",
              "        background-color: var(--mne-button-hover-bg-color);\n",
              "        text-decoration: underline;\n",
              "    }\n",
              "    .accordion-body .mne-ch-names-btn:focus-visible,\n",
              "    div.output_html .mne-ch-names-btn:focus-visible,\n",
              "    .jp-RenderedHTML .mne-ch-names-btn:focus-visible {\n",
              "        outline: 0.1875rem solid var(--mne-button-bg-color) !important;\n",
              "        outline-offset: 0.1875rem !important;\n",
              "    }\n",
              "}\n",
              "</style>\n",
              "\n",
              "\n",
              "\n",
              "<table class=\"table mne-repr-table\">\n",
              "    \n",
              "\n",
              "\n",
              "\n",
              "\n",
              "\n",
              "\n",
              "\n",
              "<tr class=\"mne-repr-section-header general-513eb4b0-a806-41fc-872b-6b572e8a3846\"\n",
              "     title=\"Hide section\" \n",
              "    onclick=\"toggleVisibility('general-513eb4b0-a806-41fc-872b-6b572e8a3846')\">\n",
              "    <th class=\"mne-repr-section-toggle\">\n",
              "        <button >\n",
              "            <svg xmlns=\"http://www.w3.org/2000/svg\" viewBox=\"0 0 512 512\"><!--!Font Awesome Free 6.6.0 by @fontawesome - https://fontawesome.com License - https://fontawesome.com/license/free Copyright 2024 Fonticons, Inc.--><path d=\"M233.4 406.6c12.5 12.5 32.8 12.5 45.3 0l192-192c12.5-12.5 12.5-32.8 0-45.3s-32.8-12.5-45.3 0L256 338.7 86.6 169.4c-12.5-12.5-32.8-12.5-45.3 0s-12.5 32.8 0 45.3l192 192z\"/></svg>\n",
              "        </button>\n",
              "    </th>\n",
              "    <th colspan=\"2\">\n",
              "        <strong>General</strong>\n",
              "    </th>\n",
              "</tr>\n",
              "\n",
              "\n",
              "<tr class=\"repr-element general-513eb4b0-a806-41fc-872b-6b572e8a3846 \">\n",
              "    <td class=\"mne-repr-section-toggle\"></td>\n",
              "    <td>Filename(s)</td>\n",
              "    <td>\n",
              "        \n",
              "        test32_2_start.fif\n",
              "        \n",
              "        \n",
              "    </td>\n",
              "</tr>\n",
              "\n",
              "<tr class=\"repr-element general-513eb4b0-a806-41fc-872b-6b572e8a3846 \">\n",
              "    <td class=\"mne-repr-section-toggle\"></td>\n",
              "    <td>MNE object type</td>\n",
              "    <td>Raw</td>\n",
              "</tr>\n",
              "<tr class=\"repr-element general-513eb4b0-a806-41fc-872b-6b572e8a3846 \">\n",
              "    <td class=\"mne-repr-section-toggle\"></td>\n",
              "    <td>Measurement date</td>\n",
              "    \n",
              "    <td>2024-02-28 at 13:06:24 UTC</td>\n",
              "    \n",
              "</tr>\n",
              "<tr class=\"repr-element general-513eb4b0-a806-41fc-872b-6b572e8a3846 \">\n",
              "    <td class=\"mne-repr-section-toggle\"></td>\n",
              "    <td>Participant</td>\n",
              "    \n",
              "    \n",
              "    <td>d3e90ef5-8513-41df-8d05-0bc4e1be4fb4</td>\n",
              "    \n",
              "    \n",
              "</tr>\n",
              "<tr class=\"repr-element general-513eb4b0-a806-41fc-872b-6b572e8a3846 \">\n",
              "    <td class=\"mne-repr-section-toggle\"></td>\n",
              "    <td>Experimenter</td>\n",
              "    \n",
              "    <td>Unknown</td>\n",
              "    \n",
              "</tr>\n",
              "    \n",
              "\n",
              "\n",
              "\n",
              "\n",
              "\n",
              "\n",
              "\n",
              "<tr class=\"mne-repr-section-header acquisition-5367d41a-3194-472b-a1d6-119527804c01\"\n",
              "     title=\"Hide section\" \n",
              "    onclick=\"toggleVisibility('acquisition-5367d41a-3194-472b-a1d6-119527804c01')\">\n",
              "    <th class=\"mne-repr-section-toggle\">\n",
              "        <button >\n",
              "            <svg xmlns=\"http://www.w3.org/2000/svg\" viewBox=\"0 0 512 512\"><!--!Font Awesome Free 6.6.0 by @fontawesome - https://fontawesome.com License - https://fontawesome.com/license/free Copyright 2024 Fonticons, Inc.--><path d=\"M233.4 406.6c12.5 12.5 32.8 12.5 45.3 0l192-192c12.5-12.5 12.5-32.8 0-45.3s-32.8-12.5-45.3 0L256 338.7 86.6 169.4c-12.5-12.5-32.8-12.5-45.3 0s-12.5 32.8 0 45.3l192 192z\"/></svg>\n",
              "        </button>\n",
              "    </th>\n",
              "    <th colspan=\"2\">\n",
              "        <strong>Acquisition</strong>\n",
              "    </th>\n",
              "</tr>\n",
              "\n",
              "\n",
              "<tr class=\"repr-element acquisition-5367d41a-3194-472b-a1d6-119527804c01 \">\n",
              "    <td class=\"mne-repr-section-toggle\"></td>\n",
              "    <td>Duration</td>\n",
              "    <td>00:02:02 (HH:MM:SS)</td>\n",
              "</tr>\n",
              "\n",
              "\n",
              "\n",
              "\n",
              "\n",
              "\n",
              "\n",
              "\n",
              "<tr class=\"repr-element acquisition-5367d41a-3194-472b-a1d6-119527804c01 \">\n",
              "    <td class=\"mne-repr-section-toggle\"></td>\n",
              "    <td>Sampling frequency</td>\n",
              "    <td>250.00 Hz</td>\n",
              "</tr>\n",
              "\n",
              "\n",
              "<tr class=\"repr-element acquisition-5367d41a-3194-472b-a1d6-119527804c01 \">\n",
              "    <td class=\"mne-repr-section-toggle\"></td>\n",
              "    <td>Time points</td>\n",
              "    <td>30,251</td>\n",
              "</tr>\n",
              "\n",
              "\n",
              "    \n",
              "\n",
              "\n",
              "\n",
              "\n",
              "\n",
              "\n",
              "\n",
              "<tr class=\"mne-repr-section-header channels-389c5cfa-696a-41ba-b5b2-c217e66eec26\"\n",
              "     title=\"Hide section\" \n",
              "    onclick=\"toggleVisibility('channels-389c5cfa-696a-41ba-b5b2-c217e66eec26')\">\n",
              "    <th class=\"mne-repr-section-toggle\">\n",
              "        <button >\n",
              "            <svg xmlns=\"http://www.w3.org/2000/svg\" viewBox=\"0 0 512 512\"><!--!Font Awesome Free 6.6.0 by @fontawesome - https://fontawesome.com License - https://fontawesome.com/license/free Copyright 2024 Fonticons, Inc.--><path d=\"M233.4 406.6c12.5 12.5 32.8 12.5 45.3 0l192-192c12.5-12.5 12.5-32.8 0-45.3s-32.8-12.5-45.3 0L256 338.7 86.6 169.4c-12.5-12.5-32.8-12.5-45.3 0s-12.5 32.8 0 45.3l192 192z\"/></svg>\n",
              "        </button>\n",
              "    </th>\n",
              "    <th colspan=\"2\">\n",
              "        <strong>Channels</strong>\n",
              "    </th>\n",
              "</tr>\n",
              "\n",
              "\n",
              "    \n",
              "<tr class=\"repr-element channels-389c5cfa-696a-41ba-b5b2-c217e66eec26 \">\n",
              "    <td class=\"mne-repr-section-toggle\"></td>\n",
              "    <td>EEG</td>\n",
              "    <td>\n",
              "        <button class=\"mne-ch-names-btn sd-sphinx-override sd-btn sd-btn-info sd-text-wrap sd-shadow-sm\" onclick=\"alert('Good EEG:\\n\\nF8, O1, O2, F7')\" title=\"(Click to open in popup)&#13;&#13;F8, O1, O2, F7\">\n",
              "            4\n",
              "        </button>\n",
              "\n",
              "        \n",
              "    </td>\n",
              "</tr>\n",
              "\n",
              "\n",
              "<tr class=\"repr-element channels-389c5cfa-696a-41ba-b5b2-c217e66eec26 \">\n",
              "    <td class=\"mne-repr-section-toggle\"></td>\n",
              "    <td>Head & sensor digitization</td>\n",
              "    \n",
              "    <td>7 points</td>\n",
              "    \n",
              "</tr>\n",
              "    \n",
              "\n",
              "\n",
              "\n",
              "\n",
              "\n",
              "\n",
              "\n",
              "<tr class=\"mne-repr-section-header filters-501f3640-8210-4176-bde8-26852e9a0a47\"\n",
              "     title=\"Hide section\" \n",
              "    onclick=\"toggleVisibility('filters-501f3640-8210-4176-bde8-26852e9a0a47')\">\n",
              "    <th class=\"mne-repr-section-toggle\">\n",
              "        <button >\n",
              "            <svg xmlns=\"http://www.w3.org/2000/svg\" viewBox=\"0 0 512 512\"><!--!Font Awesome Free 6.6.0 by @fontawesome - https://fontawesome.com License - https://fontawesome.com/license/free Copyright 2024 Fonticons, Inc.--><path d=\"M233.4 406.6c12.5 12.5 32.8 12.5 45.3 0l192-192c12.5-12.5 12.5-32.8 0-45.3s-32.8-12.5-45.3 0L256 338.7 86.6 169.4c-12.5-12.5-32.8-12.5-45.3 0s-12.5 32.8 0 45.3l192 192z\"/></svg>\n",
              "        </button>\n",
              "    </th>\n",
              "    <th colspan=\"2\">\n",
              "        <strong>Filters</strong>\n",
              "    </th>\n",
              "</tr>\n",
              "\n",
              "\n",
              "<tr class=\"repr-element filters-501f3640-8210-4176-bde8-26852e9a0a47 \">\n",
              "    <td class=\"mne-repr-section-toggle\"></td>\n",
              "    <td>Highpass</td>\n",
              "    <td>1.00 Hz</td>\n",
              "</tr>\n",
              "\n",
              "\n",
              "<tr class=\"repr-element filters-501f3640-8210-4176-bde8-26852e9a0a47 \">\n",
              "    <td class=\"mne-repr-section-toggle\"></td>\n",
              "    <td>Lowpass</td>\n",
              "    <td>30.00 Hz</td>\n",
              "</tr>\n",
              "\n",
              "\n",
              "</table>"
            ]
          },
          "metadata": {},
          "execution_count": 7
        }
      ]
    },
    {
      "cell_type": "code",
      "source": [
        "# Check first few seconds of the data\n",
        "raw_data.plot(duration=10, n_channels=4, scalings={'eeg': 75e-5})\n",
        "plt.close()"
      ],
      "metadata": {
        "id": "9D9ET8sdifub",
        "outputId": "fbd40bff-c13d-44d7-8af6-026bdb11a26a",
        "colab": {
          "base_uri": "https://localhost:8080/",
          "height": 810
        }
      },
      "execution_count": 9,
      "outputs": [
        {
          "output_type": "display_data",
          "data": {
            "text/plain": [
              "<MNEBrowseFigure size 800x800 with 4 Axes>"
            ],
            "image/png": "[encoded data removed]"
          },
          "metadata": {}
        }
      ]
    },
    {
      "cell_type": "markdown",
      "source": [
        "## 4.  Detect Flat Channels/Signals"
      ],
      "metadata": {
        "id": "LIaM8wvUjW1g"
      }
    },
    {
      "cell_type": "code",
      "source": [
        "import numpy as np\n",
        "import mne\n",
        "\n",
        "def detect_flat_channels(raw, threshold=1e-6):\n",
        "    \"\"\"\n",
        "    Detects channels with near-zero standard deviation (flat signals).\n",
        "\n",
        "    Parameters:\n",
        "    - raw: MNE Raw object\n",
        "    - threshold: Standard deviation threshold for detecting flat channels\n",
        "\n",
        "    Returns:\n",
        "    - List of flat channels\n",
        "    \"\"\"\n",
        "    flat_channels = []\n",
        "    data, _ = raw.get_data(return_times=True)\n",
        "\n",
        "    for i, ch_name in enumerate(raw.ch_names):\n",
        "        if np.std(data[i]) < threshold:\n",
        "            flat_channels.append(ch_name)\n",
        "\n",
        "    return flat_channels\n",
        "\n",
        "\n",
        "def detect_flat_segments(raw, window_size=0.15, threshold=1e-6):\n",
        "    \"\"\"\n",
        "    Detects time periods where EEG signals are flat.\n",
        "\n",
        "    Parameters:\n",
        "    - raw: MNE Raw object\n",
        "    - window_size: Time window in seconds to check for flat segments\n",
        "    - threshold: Standard deviation threshold for detecting flat segments\n",
        "\n",
        "    Returns:\n",
        "    - List of flat segments (channel name, start time, end time)\n",
        "    \"\"\"\n",
        "    sfreq = raw.info['sfreq']  # Sampling frequency\n",
        "    data, times = raw.get_data(return_times=True)\n",
        "    flat_segments = []\n",
        "\n",
        "    for i, ch_name in enumerate(raw.ch_names):\n",
        "        for start in range(0, len(times) - int(window_size * sfreq), int(window_size * sfreq)):\n",
        "            segment = data[i, start:start + int(window_size * sfreq)]\n",
        "            if np.std(segment) < threshold:\n",
        "                flat_segments.append((ch_name, times[start], times[start + int(window_size * sfreq) - 1]))\n",
        "\n",
        "    return flat_segments\n",
        "\n",
        "\n",
        "# Detect and mark flat channels\n",
        "flat_chs = detect_flat_channels(raw_data)\n",
        "print(\"Flat channels detected:\", flat_chs)\n",
        "\n",
        "if flat_chs:\n",
        "    raw_data.info['bads'] = flat_chs  # Mark channels as bad\n",
        "else:\n",
        "    print(\"No flat channels detected.\")\n",
        "\n",
        "# Detect flat periods\n",
        "flat_periods = detect_flat_segments(raw_data)\n",
        "print(\"Flat periods detected:\", flat_periods)\n",
        "\n",
        "raw_data.set_annotations(mne.Annotations(onset=[], duration=[], description=[]))\n",
        "\n",
        "# Add annotations for flat segments\n",
        "if flat_periods:\n",
        "    onset = [seg[1] for seg in flat_periods]\n",
        "    duration = [seg[2] - seg[1] for seg in flat_periods]\n",
        "    description = [\"Flat signal\" for _ in flat_periods]\n",
        "\n",
        "    annotations = mne.Annotations(onset=onset, duration=duration, description=description)\n",
        "    raw_data.set_annotations(annotations)\n",
        "    print(f\"Added {len(flat_periods)} annotations for flat segments.\")\n",
        "else:\n",
        "    print(\"No flat segments detected.\")\n"
      ],
      "metadata": {
        "colab": {
          "base_uri": "https://localhost:8080/"
        },
        "id": "q1T_7S5mU_Jg",
        "outputId": "283a8a2d-f455-4c30-8ec6-50a68fe012c2"
      },
      "execution_count": 49,
      "outputs": [
        {
          "output_type": "stream",
          "name": "stdout",
          "text": [
            "Flat channels detected: []\n",
            "No flat channels detected.\n",
            "Flat periods detected: [('F7', 26.048, 26.192), ('F7', 85.544, 85.688)]\n",
            "Added 2 annotations for flat segments.\n"
          ]
        }
      ]
    },
    {
      "cell_type": "code",
      "source": [
        "for item in raw_data.annotations:\n",
        "  print(item)"
      ],
      "metadata": {
        "id": "JjEM6opcYnhT",
        "outputId": "874c879b-360f-40e2-fb3c-9b9da2880832",
        "colab": {
          "base_uri": "https://localhost:8080/"
        }
      },
      "execution_count": 50,
      "outputs": [
        {
          "output_type": "stream",
          "name": "stdout",
          "text": [
            "OrderedDict([('onset', 182.048), ('duration', 0.1440000000000019), ('description', 'Flat signal'), ('orig_time', datetime.datetime(2024, 2, 28, 13, 6, 24, tzinfo=datetime.timezone.utc))])\n",
            "OrderedDict([('onset', 241.54399999999998), ('duration', 0.14400000000000546), ('description', 'Flat signal'), ('orig_time', datetime.datetime(2024, 2, 28, 13, 6, 24, tzinfo=datetime.timezone.utc))])\n"
          ]
        }
      ]
    },
    {
      "cell_type": "code",
      "source": [
        "# Plot EEG data with custom scalings\n",
        "channel = 'F7'\n",
        "raw_data.plot(picks=[channel], start=85, duration=5,scalings=100e-7)\n",
        "#raw_data.plot(n_channels=len(raw_data.ch_names), scalings=scalings, title=\"EEG Data with Annotations\")\n",
        "plt.close()"
      ],
      "metadata": {
        "id": "l3tlqkfzfRbI",
        "outputId": "ab86ae76-11aa-4c43-9f21-0c5240e0ecd1",
        "colab": {
          "base_uri": "https://localhost:8080/",
          "height": 833
        }
      },
      "execution_count": 62,
      "outputs": [
        {
          "output_type": "display_data",
          "data": {
            "text/plain": [
              "<MNEBrowseFigure size 800x800 with 4 Axes>"
            ],
            "image/png": "[encoded data removed]"
          },
          "metadata": {}
        }
      ]
    },
    {
      "cell_type": "code",
      "source": [
        "# interpolate bads\n",
        "raw_data.interpolate_bads(reset_bads=True)"
      ],
      "metadata": {
        "id": "sjhOODTkMmXR",
        "outputId": "38f2d27e-70bd-442b-8168-dbc37467362b",
        "colab": {
          "base_uri": "https://localhost:8080/",
          "height": 481
        }
      },
      "execution_count": 63,
      "outputs": [
        {
          "output_type": "stream",
          "name": "stdout",
          "text": [
            "Setting channel interpolation method to {'eeg': 'spline'}.\n"
          ]
        },
        {
          "output_type": "stream",
          "name": "stderr",
          "text": [
            "<ipython-input-63-34feae8fb604>:1: RuntimeWarning: No bad channels to interpolate. Doing nothing...\n",
            "  raw_data.interpolate_bads(reset_bads=True)\n"
          ]
        },
        {
          "output_type": "execute_result",
          "data": {
            "text/plain": [
              "<Raw | test32_2_start.fif, 4 x 30251 (121.0 s), ~958 KiB, data loaded>"
            ],
            "text/html": [
              "<script type=\"text/javascript\">\n",
              "    // must be `var` (not `const`) because this can get embedded multiple times on a page\n",
              "var toggleVisibility = (className) => {\n",
              "\n",
              "    const elements = document.querySelectorAll(`.${className}`);\n",
              "\n",
              "    elements.forEach(element => {\n",
              "        if (element.classList.contains(\"mne-repr-section-header\")) {\n",
              "            return  // Don't collapse the section header row\n",
              "        }\n",
              "        element.classList.toggle(\"mne-repr-collapsed\");\n",
              "    });\n",
              "\n",
              "    // trigger caret to rotate\n",
              "    var sel = `.mne-repr-section-header.${className} > th.mne-repr-section-toggle > button`;\n",
              "    const button = document.querySelector(sel);\n",
              "    button.classList.toggle(\"collapsed\");\n",
              "\n",
              "    // adjust tooltip\n",
              "    sel = `tr.mne-repr-section-header.${className}`;\n",
              "    const secHeadRow = document.querySelector(sel);\n",
              "    secHeadRow.classList.toggle(\"collapsed\");\n",
              "    secHeadRow.title = secHeadRow.title === \"Hide section\" ? \"Show section\" : \"Hide section\";\n",
              "}\n",
              "</script>\n",
              "\n",
              "<style type=\"text/css\">\n",
              "    /*\n",
              "Styles in this section apply both to the sphinx-built website docs and to notebooks\n",
              "rendered in an IDE or in Jupyter. In our web docs, styles here are complemented by\n",
              "doc/_static/styles.css and other CSS files (e.g. from the sphinx theme, sphinx-gallery,\n",
              "or bootstrap). In IDEs/Jupyter, those style files are unavailable, so only the rules in\n",
              "this file apply (plus whatever default styling the IDE applies).\n",
              "*/\n",
              ".mne-repr-table {\n",
              "    display: inline;  /* prevent using full container width */\n",
              "}\n",
              ".mne-repr-table tr.mne-repr-section-header > th {\n",
              "    padding-top: 1rem;\n",
              "    text-align: left;\n",
              "    vertical-align: middle;\n",
              "}\n",
              ".mne-repr-section-toggle > button {\n",
              "    all: unset;\n",
              "    display: block;\n",
              "    height: 1rem;\n",
              "    width: 1rem;\n",
              "}\n",
              ".mne-repr-section-toggle > button > svg {\n",
              "    height: 60%;\n",
              "}\n",
              "\n",
              "/* transition (rotation) effects on the collapser button */\n",
              ".mne-repr-section-toggle > button.collapsed > svg {\n",
              "    transition: 0.1s ease-out;\n",
              "    transform: rotate(-90deg);\n",
              "}\n",
              ".mne-repr-section-toggle > button:not(.collapsed) > svg {\n",
              "    transition: 0.1s ease-out;\n",
              "    transform: rotate(0deg);\n",
              "}\n",
              "\n",
              "/* hide collapsed table rows */\n",
              ".mne-repr-collapsed {\n",
              "    display: none;\n",
              "}\n",
              "\n",
              "\n",
              "@layer {\n",
              "    /*\n",
              "    Selectors in a `@layer` will always be lower-precedence than selectors outside the\n",
              "    layer. So even though e.g. `div.output_html` is present in the sphinx-rendered\n",
              "    website docs, the styles here won't take effect there as long as some other rule\n",
              "    somewhere in the page's CSS targets the same element.\n",
              "\n",
              "    In IDEs or Jupyter notebooks, though, the CSS files from the sphinx theme,\n",
              "    sphinx-gallery, and bootstrap are unavailable, so these styles will apply.\n",
              "\n",
              "    Notes:\n",
              "\n",
              "    - the selector `.accordion-body` is for MNE Reports\n",
              "    - the selector `.output_html` is for VSCode's notebook interface\n",
              "    - the selector `.jp-RenderedHTML` is for Jupyter notebook\n",
              "    - variables starting with `--theme-` are VSCode-specific.\n",
              "    - variables starting with `--jp-` are Jupyter styles, *some of which* are also\n",
              "      available in VSCode. Here we try the `--theme-` variable first, then fall back to\n",
              "      the `--jp-` ones.\n",
              "    */\n",
              "    .mne-repr-table {\n",
              "        --mne-toggle-color: var(--theme-foreground, var(--jp-ui-font-color1));\n",
              "        --mne-button-bg-color: var(--theme-button-background, var(--jp-info-color0, var(--jp-content-link-color)));\n",
              "        --mne-button-fg-color: var(--theme-button-foreground, var(--jp-ui-inverse-font-color0, var(--jp-editor-background)));\n",
              "        --mne-button-hover-bg-color: var(--theme-button-hover-background, var(--jp-info-color1));\n",
              "        --mne-button-radius: var(--jp-border-radius, 0.25rem);\n",
              "    }\n",
              "    /* chevron position/alignment; in VSCode it looks ok without adjusting */\n",
              "    .accordion-body .mne-repr-section-toggle > button,\n",
              "    .jp-RenderedHTML .mne-repr-section-toggle > button {\n",
              "        padding: 0 0 45% 25% !important;\n",
              "    }\n",
              "    /* chevron color; MNE Report doesn't have light/dark mode */\n",
              "    div.output_html .mne-repr-section-toggle > button > svg > path,\n",
              "    .jp-RenderedHTML .mne-repr-section-toggle > button > svg > path {\n",
              "        fill: var(--mne-toggle-color);\n",
              "    }\n",
              "    .accordion-body .mne-ch-names-btn,\n",
              "    div.output_html .mne-ch-names-btn,\n",
              "    .jp-RenderedHTML .mne-ch-names-btn {\n",
              "        -webkit-border-radius: var(--mne-button-radius);\n",
              "        -moz-border-radius: var(--mne-button-radius);\n",
              "        border-radius: var(--mne-button-radius);\n",
              "        border: none;\n",
              "        background-image: none;\n",
              "        background-color: var(--mne-button-bg-color);\n",
              "        color: var(--mne-button-fg-color);\n",
              "        font-size: inherit;\n",
              "        min-width: 1.5rem;\n",
              "        padding: 0.25rem;\n",
              "        text-align: center;\n",
              "        text-decoration: none;\n",
              "    }\n",
              "    .accordion-body .mne-ch-names-btn:hover,\n",
              "    div.output_html .mne.ch-names-btn:hover,\n",
              "    .jp-RenderedHTML .mne-ch-names-btn:hover {\n",
              "        background-color: var(--mne-button-hover-bg-color);\n",
              "        text-decoration: underline;\n",
              "    }\n",
              "    .accordion-body .mne-ch-names-btn:focus-visible,\n",
              "    div.output_html .mne-ch-names-btn:focus-visible,\n",
              "    .jp-RenderedHTML .mne-ch-names-btn:focus-visible {\n",
              "        outline: 0.1875rem solid var(--mne-button-bg-color) !important;\n",
              "        outline-offset: 0.1875rem !important;\n",
              "    }\n",
              "}\n",
              "</style>\n",
              "\n",
              "\n",
              "\n",
              "<table class=\"table mne-repr-table\">\n",
              "    \n",
              "\n",
              "\n",
              "\n",
              "\n",
              "\n",
              "\n",
              "\n",
              "<tr class=\"mne-repr-section-header general-67181302-8eab-4077-97fa-f746408b0cf6\"\n",
              "     title=\"Hide section\" \n",
              "    onclick=\"toggleVisibility('general-67181302-8eab-4077-97fa-f746408b0cf6')\">\n",
              "    <th class=\"mne-repr-section-toggle\">\n",
              "        <button >\n",
              "            <svg xmlns=\"http://www.w3.org/2000/svg\" viewBox=\"0 0 512 512\"><!--!Font Awesome Free 6.6.0 by @fontawesome - https://fontawesome.com License - https://fontawesome.com/license/free Copyright 2024 Fonticons, Inc.--><path d=\"M233.4 406.6c12.5 12.5 32.8 12.5 45.3 0l192-192c12.5-12.5 12.5-32.8 0-45.3s-32.8-12.5-45.3 0L256 338.7 86.6 169.4c-12.5-12.5-32.8-12.5-45.3 0s-12.5 32.8 0 45.3l192 192z\"/></svg>\n",
              "        </button>\n",
              "    </th>\n",
              "    <th colspan=\"2\">\n",
              "        <strong>General</strong>\n",
              "    </th>\n",
              "</tr>\n",
              "\n",
              "\n",
              "<tr class=\"repr-element general-67181302-8eab-4077-97fa-f746408b0cf6 \">\n",
              "    <td class=\"mne-repr-section-toggle\"></td>\n",
              "    <td>Filename(s)</td>\n",
              "    <td>\n",
              "        \n",
              "        test32_2_start.fif\n",
              "        \n",
              "        \n",
              "    </td>\n",
              "</tr>\n",
              "\n",
              "<tr class=\"repr-element general-67181302-8eab-4077-97fa-f746408b0cf6 \">\n",
              "    <td class=\"mne-repr-section-toggle\"></td>\n",
              "    <td>MNE object type</td>\n",
              "    <td>Raw</td>\n",
              "</tr>\n",
              "<tr class=\"repr-element general-67181302-8eab-4077-97fa-f746408b0cf6 \">\n",
              "    <td class=\"mne-repr-section-toggle\"></td>\n",
              "    <td>Measurement date</td>\n",
              "    \n",
              "    <td>2024-02-28 at 13:06:24 UTC</td>\n",
              "    \n",
              "</tr>\n",
              "<tr class=\"repr-element general-67181302-8eab-4077-97fa-f746408b0cf6 \">\n",
              "    <td class=\"mne-repr-section-toggle\"></td>\n",
              "    <td>Participant</td>\n",
              "    \n",
              "    \n",
              "    <td>d3e90ef5-8513-41df-8d05-0bc4e1be4fb4</td>\n",
              "    \n",
              "    \n",
              "</tr>\n",
              "<tr class=\"repr-element general-67181302-8eab-4077-97fa-f746408b0cf6 \">\n",
              "    <td class=\"mne-repr-section-toggle\"></td>\n",
              "    <td>Experimenter</td>\n",
              "    \n",
              "    <td>Unknown</td>\n",
              "    \n",
              "</tr>\n",
              "    \n",
              "\n",
              "\n",
              "\n",
              "\n",
              "\n",
              "\n",
              "\n",
              "<tr class=\"mne-repr-section-header acquisition-d7c233dd-9ab8-4ada-b3f2-11deb2932915\"\n",
              "     title=\"Hide section\" \n",
              "    onclick=\"toggleVisibility('acquisition-d7c233dd-9ab8-4ada-b3f2-11deb2932915')\">\n",
              "    <th class=\"mne-repr-section-toggle\">\n",
              "        <button >\n",
              "            <svg xmlns=\"http://www.w3.org/2000/svg\" viewBox=\"0 0 512 512\"><!--!Font Awesome Free 6.6.0 by @fontawesome - https://fontawesome.com License - https://fontawesome.com/license/free Copyright 2024 Fonticons, Inc.--><path d=\"M233.4 406.6c12.5 12.5 32.8 12.5 45.3 0l192-192c12.5-12.5 12.5-32.8 0-45.3s-32.8-12.5-45.3 0L256 338.7 86.6 169.4c-12.5-12.5-32.8-12.5-45.3 0s-12.5 32.8 0 45.3l192 192z\"/></svg>\n",
              "        </button>\n",
              "    </th>\n",
              "    <th colspan=\"2\">\n",
              "        <strong>Acquisition</strong>\n",
              "    </th>\n",
              "</tr>\n",
              "\n",
              "\n",
              "<tr class=\"repr-element acquisition-d7c233dd-9ab8-4ada-b3f2-11deb2932915 \">\n",
              "    <td class=\"mne-repr-section-toggle\"></td>\n",
              "    <td>Duration</td>\n",
              "    <td>00:02:02 (HH:MM:SS)</td>\n",
              "</tr>\n",
              "\n",
              "\n",
              "\n",
              "\n",
              "\n",
              "\n",
              "\n",
              "\n",
              "<tr class=\"repr-element acquisition-d7c233dd-9ab8-4ada-b3f2-11deb2932915 \">\n",
              "    <td class=\"mne-repr-section-toggle\"></td>\n",
              "    <td>Sampling frequency</td>\n",
              "    <td>250.00 Hz</td>\n",
              "</tr>\n",
              "\n",
              "\n",
              "<tr class=\"repr-element acquisition-d7c233dd-9ab8-4ada-b3f2-11deb2932915 \">\n",
              "    <td class=\"mne-repr-section-toggle\"></td>\n",
              "    <td>Time points</td>\n",
              "    <td>30,251</td>\n",
              "</tr>\n",
              "\n",
              "\n",
              "    \n",
              "\n",
              "\n",
              "\n",
              "\n",
              "\n",
              "\n",
              "\n",
              "<tr class=\"mne-repr-section-header channels-95c0e9d7-b5f1-4101-9fea-c46c90beb70d\"\n",
              "     title=\"Hide section\" \n",
              "    onclick=\"toggleVisibility('channels-95c0e9d7-b5f1-4101-9fea-c46c90beb70d')\">\n",
              "    <th class=\"mne-repr-section-toggle\">\n",
              "        <button >\n",
              "            <svg xmlns=\"http://www.w3.org/2000/svg\" viewBox=\"0 0 512 512\"><!--!Font Awesome Free 6.6.0 by @fontawesome - https://fontawesome.com License - https://fontawesome.com/license/free Copyright 2024 Fonticons, Inc.--><path d=\"M233.4 406.6c12.5 12.5 32.8 12.5 45.3 0l192-192c12.5-12.5 12.5-32.8 0-45.3s-32.8-12.5-45.3 0L256 338.7 86.6 169.4c-12.5-12.5-32.8-12.5-45.3 0s-12.5 32.8 0 45.3l192 192z\"/></svg>\n",
              "        </button>\n",
              "    </th>\n",
              "    <th colspan=\"2\">\n",
              "        <strong>Channels</strong>\n",
              "    </th>\n",
              "</tr>\n",
              "\n",
              "\n",
              "    \n",
              "<tr class=\"repr-element channels-95c0e9d7-b5f1-4101-9fea-c46c90beb70d \">\n",
              "    <td class=\"mne-repr-section-toggle\"></td>\n",
              "    <td>EEG</td>\n",
              "    <td>\n",
              "        <button class=\"mne-ch-names-btn sd-sphinx-override sd-btn sd-btn-info sd-text-wrap sd-shadow-sm\" onclick=\"alert('Good EEG:\\n\\nF8, O1, O2, F7')\" title=\"(Click to open in popup)&#13;&#13;F8, O1, O2, F7\">\n",
              "            4\n",
              "        </button>\n",
              "\n",
              "        \n",
              "    </td>\n",
              "</tr>\n",
              "\n",
              "\n",
              "<tr class=\"repr-element channels-95c0e9d7-b5f1-4101-9fea-c46c90beb70d \">\n",
              "    <td class=\"mne-repr-section-toggle\"></td>\n",
              "    <td>Head & sensor digitization</td>\n",
              "    \n",
              "    <td>7 points</td>\n",
              "    \n",
              "</tr>\n",
              "    \n",
              "\n",
              "\n",
              "\n",
              "\n",
              "\n",
              "\n",
              "\n",
              "<tr class=\"mne-repr-section-header filters-bd408b91-9944-43d0-ba09-4b7c99504a3e\"\n",
              "     title=\"Hide section\" \n",
              "    onclick=\"toggleVisibility('filters-bd408b91-9944-43d0-ba09-4b7c99504a3e')\">\n",
              "    <th class=\"mne-repr-section-toggle\">\n",
              "        <button >\n",
              "            <svg xmlns=\"http://www.w3.org/2000/svg\" viewBox=\"0 0 512 512\"><!--!Font Awesome Free 6.6.0 by @fontawesome - https://fontawesome.com License - https://fontawesome.com/license/free Copyright 2024 Fonticons, Inc.--><path d=\"M233.4 406.6c12.5 12.5 32.8 12.5 45.3 0l192-192c12.5-12.5 12.5-32.8 0-45.3s-32.8-12.5-45.3 0L256 338.7 86.6 169.4c-12.5-12.5-32.8-12.5-45.3 0s-12.5 32.8 0 45.3l192 192z\"/></svg>\n",
              "        </button>\n",
              "    </th>\n",
              "    <th colspan=\"2\">\n",
              "        <strong>Filters</strong>\n",
              "    </th>\n",
              "</tr>\n",
              "\n",
              "\n",
              "<tr class=\"repr-element filters-bd408b91-9944-43d0-ba09-4b7c99504a3e \">\n",
              "    <td class=\"mne-repr-section-toggle\"></td>\n",
              "    <td>Highpass</td>\n",
              "    <td>1.00 Hz</td>\n",
              "</tr>\n",
              "\n",
              "\n",
              "<tr class=\"repr-element filters-bd408b91-9944-43d0-ba09-4b7c99504a3e \">\n",
              "    <td class=\"mne-repr-section-toggle\"></td>\n",
              "    <td>Lowpass</td>\n",
              "    <td>30.00 Hz</td>\n",
              "</tr>\n",
              "\n",
              "\n",
              "</table>"
            ]
          },
          "metadata": {},
          "execution_count": 63
        }
      ]
    },
    {
      "cell_type": "code",
      "source": [
        "raw_data.set_eeg_reference('average', projection=True)\n"
      ],
      "metadata": {
        "id": "GXZ322PZMslE",
        "outputId": "155ecfee-d6af-4f32-da1f-2f4463b6d870",
        "colab": {
          "base_uri": "https://localhost:8080/",
          "height": 520
        }
      },
      "execution_count": 64,
      "outputs": [
        {
          "output_type": "stream",
          "name": "stdout",
          "text": [
            "EEG channel type selected for re-referencing\n",
            "Adding average EEG reference projection.\n",
            "1 projection items deactivated\n",
            "Average reference projection was added, but has not been applied yet. Use the apply_proj method to apply it.\n"
          ]
        },
        {
          "output_type": "execute_result",
          "data": {
            "text/plain": [
              "<Raw | test32_2_start.fif, 4 x 30251 (121.0 s), ~959 KiB, data loaded>"
            ],
            "text/html": [
              "<script type=\"text/javascript\">\n",
              "    // must be `var` (not `const`) because this can get embedded multiple times on a page\n",
              "var toggleVisibility = (className) => {\n",
              "\n",
              "    const elements = document.querySelectorAll(`.${className}`);\n",
              "\n",
              "    elements.forEach(element => {\n",
              "        if (element.classList.contains(\"mne-repr-section-header\")) {\n",
              "            return  // Don't collapse the section header row\n",
              "        }\n",
              "        element.classList.toggle(\"mne-repr-collapsed\");\n",
              "    });\n",
              "\n",
              "    // trigger caret to rotate\n",
              "    var sel = `.mne-repr-section-header.${className} > th.mne-repr-section-toggle > button`;\n",
              "    const button = document.querySelector(sel);\n",
              "    button.classList.toggle(\"collapsed\");\n",
              "\n",
              "    // adjust tooltip\n",
              "    sel = `tr.mne-repr-section-header.${className}`;\n",
              "    const secHeadRow = document.querySelector(sel);\n",
              "    secHeadRow.classList.toggle(\"collapsed\");\n",
              "    secHeadRow.title = secHeadRow.title === \"Hide section\" ? \"Show section\" : \"Hide section\";\n",
              "}\n",
              "</script>\n",
              "\n",
              "<style type=\"text/css\">\n",
              "    /*\n",
              "Styles in this section apply both to the sphinx-built website docs and to notebooks\n",
              "rendered in an IDE or in Jupyter. In our web docs, styles here are complemented by\n",
              "doc/_static/styles.css and other CSS files (e.g. from the sphinx theme, sphinx-gallery,\n",
              "or bootstrap). In IDEs/Jupyter, those style files are unavailable, so only the rules in\n",
              "this file apply (plus whatever default styling the IDE applies).\n",
              "*/\n",
              ".mne-repr-table {\n",
              "    display: inline;  /* prevent using full container width */\n",
              "}\n",
              ".mne-repr-table tr.mne-repr-section-header > th {\n",
              "    padding-top: 1rem;\n",
              "    text-align: left;\n",
              "    vertical-align: middle;\n",
              "}\n",
              ".mne-repr-section-toggle > button {\n",
              "    all: unset;\n",
              "    display: block;\n",
              "    height: 1rem;\n",
              "    width: 1rem;\n",
              "}\n",
              ".mne-repr-section-toggle > button > svg {\n",
              "    height: 60%;\n",
              "}\n",
              "\n",
              "/* transition (rotation) effects on the collapser button */\n",
              ".mne-repr-section-toggle > button.collapsed > svg {\n",
              "    transition: 0.1s ease-out;\n",
              "    transform: rotate(-90deg);\n",
              "}\n",
              ".mne-repr-section-toggle > button:not(.collapsed) > svg {\n",
              "    transition: 0.1s ease-out;\n",
              "    transform: rotate(0deg);\n",
              "}\n",
              "\n",
              "/* hide collapsed table rows */\n",
              ".mne-repr-collapsed {\n",
              "    display: none;\n",
              "}\n",
              "\n",
              "\n",
              "@layer {\n",
              "    /*\n",
              "    Selectors in a `@layer` will always be lower-precedence than selectors outside the\n",
              "    layer. So even though e.g. `div.output_html` is present in the sphinx-rendered\n",
              "    website docs, the styles here won't take effect there as long as some other rule\n",
              "    somewhere in the page's CSS targets the same element.\n",
              "\n",
              "    In IDEs or Jupyter notebooks, though, the CSS files from the sphinx theme,\n",
              "    sphinx-gallery, and bootstrap are unavailable, so these styles will apply.\n",
              "\n",
              "    Notes:\n",
              "\n",
              "    - the selector `.accordion-body` is for MNE Reports\n",
              "    - the selector `.output_html` is for VSCode's notebook interface\n",
              "    - the selector `.jp-RenderedHTML` is for Jupyter notebook\n",
              "    - variables starting with `--theme-` are VSCode-specific.\n",
              "    - variables starting with `--jp-` are Jupyter styles, *some of which* are also\n",
              "      available in VSCode. Here we try the `--theme-` variable first, then fall back to\n",
              "      the `--jp-` ones.\n",
              "    */\n",
              "    .mne-repr-table {\n",
              "        --mne-toggle-color: var(--theme-foreground, var(--jp-ui-font-color1));\n",
              "        --mne-button-bg-color: var(--theme-button-background, var(--jp-info-color0, var(--jp-content-link-color)));\n",
              "        --mne-button-fg-color: var(--theme-button-foreground, var(--jp-ui-inverse-font-color0, var(--jp-editor-background)));\n",
              "        --mne-button-hover-bg-color: var(--theme-button-hover-background, var(--jp-info-color1));\n",
              "        --mne-button-radius: var(--jp-border-radius, 0.25rem);\n",
              "    }\n",
              "    /* chevron position/alignment; in VSCode it looks ok without adjusting */\n",
              "    .accordion-body .mne-repr-section-toggle > button,\n",
              "    .jp-RenderedHTML .mne-repr-section-toggle > button {\n",
              "        padding: 0 0 45% 25% !important;\n",
              "    }\n",
              "    /* chevron color; MNE Report doesn't have light/dark mode */\n",
              "    div.output_html .mne-repr-section-toggle > button > svg > path,\n",
              "    .jp-RenderedHTML .mne-repr-section-toggle > button > svg > path {\n",
              "        fill: var(--mne-toggle-color);\n",
              "    }\n",
              "    .accordion-body .mne-ch-names-btn,\n",
              "    div.output_html .mne-ch-names-btn,\n",
              "    .jp-RenderedHTML .mne-ch-names-btn {\n",
              "        -webkit-border-radius: var(--mne-button-radius);\n",
              "        -moz-border-radius: var(--mne-button-radius);\n",
              "        border-radius: var(--mne-button-radius);\n",
              "        border: none;\n",
              "        background-image: none;\n",
              "        background-color: var(--mne-button-bg-color);\n",
              "        color: var(--mne-button-fg-color);\n",
              "        font-size: inherit;\n",
              "        min-width: 1.5rem;\n",
              "        padding: 0.25rem;\n",
              "        text-align: center;\n",
              "        text-decoration: none;\n",
              "    }\n",
              "    .accordion-body .mne-ch-names-btn:hover,\n",
              "    div.output_html .mne.ch-names-btn:hover,\n",
              "    .jp-RenderedHTML .mne-ch-names-btn:hover {\n",
              "        background-color: var(--mne-button-hover-bg-color);\n",
              "        text-decoration: underline;\n",
              "    }\n",
              "    .accordion-body .mne-ch-names-btn:focus-visible,\n",
              "    div.output_html .mne-ch-names-btn:focus-visible,\n",
              "    .jp-RenderedHTML .mne-ch-names-btn:focus-visible {\n",
              "        outline: 0.1875rem solid var(--mne-button-bg-color) !important;\n",
              "        outline-offset: 0.1875rem !important;\n",
              "    }\n",
              "}\n",
              "</style>\n",
              "\n",
              "\n",
              "\n",
              "<table class=\"table mne-repr-table\">\n",
              "    \n",
              "\n",
              "\n",
              "\n",
              "\n",
              "\n",
              "\n",
              "\n",
              "<tr class=\"mne-repr-section-header general-ecb3b383-53c7-4938-bf2a-98865b5aa0d2\"\n",
              "     title=\"Hide section\" \n",
              "    onclick=\"toggleVisibility('general-ecb3b383-53c7-4938-bf2a-98865b5aa0d2')\">\n",
              "    <th class=\"mne-repr-section-toggle\">\n",
              "        <button >\n",
              "            <svg xmlns=\"http://www.w3.org/2000/svg\" viewBox=\"0 0 512 512\"><!--!Font Awesome Free 6.6.0 by @fontawesome - https://fontawesome.com License - https://fontawesome.com/license/free Copyright 2024 Fonticons, Inc.--><path d=\"M233.4 406.6c12.5 12.5 32.8 12.5 45.3 0l192-192c12.5-12.5 12.5-32.8 0-45.3s-32.8-12.5-45.3 0L256 338.7 86.6 169.4c-12.5-12.5-32.8-12.5-45.3 0s-12.5 32.8 0 45.3l192 192z\"/></svg>\n",
              "        </button>\n",
              "    </th>\n",
              "    <th colspan=\"2\">\n",
              "        <strong>General</strong>\n",
              "    </th>\n",
              "</tr>\n",
              "\n",
              "\n",
              "<tr class=\"repr-element general-ecb3b383-53c7-4938-bf2a-98865b5aa0d2 \">\n",
              "    <td class=\"mne-repr-section-toggle\"></td>\n",
              "    <td>Filename(s)</td>\n",
              "    <td>\n",
              "        \n",
              "        test32_2_start.fif\n",
              "        \n",
              "        \n",
              "    </td>\n",
              "</tr>\n",
              "\n",
              "<tr class=\"repr-element general-ecb3b383-53c7-4938-bf2a-98865b5aa0d2 \">\n",
              "    <td class=\"mne-repr-section-toggle\"></td>\n",
              "    <td>MNE object type</td>\n",
              "    <td>Raw</td>\n",
              "</tr>\n",
              "<tr class=\"repr-element general-ecb3b383-53c7-4938-bf2a-98865b5aa0d2 \">\n",
              "    <td class=\"mne-repr-section-toggle\"></td>\n",
              "    <td>Measurement date</td>\n",
              "    \n",
              "    <td>2024-02-28 at 13:06:24 UTC</td>\n",
              "    \n",
              "</tr>\n",
              "<tr class=\"repr-element general-ecb3b383-53c7-4938-bf2a-98865b5aa0d2 \">\n",
              "    <td class=\"mne-repr-section-toggle\"></td>\n",
              "    <td>Participant</td>\n",
              "    \n",
              "    \n",
              "    <td>d3e90ef5-8513-41df-8d05-0bc4e1be4fb4</td>\n",
              "    \n",
              "    \n",
              "</tr>\n",
              "<tr class=\"repr-element general-ecb3b383-53c7-4938-bf2a-98865b5aa0d2 \">\n",
              "    <td class=\"mne-repr-section-toggle\"></td>\n",
              "    <td>Experimenter</td>\n",
              "    \n",
              "    <td>Unknown</td>\n",
              "    \n",
              "</tr>\n",
              "    \n",
              "\n",
              "\n",
              "\n",
              "\n",
              "\n",
              "\n",
              "\n",
              "<tr class=\"mne-repr-section-header acquisition-b7acdc59-8326-4f8f-9131-f4169c744da5\"\n",
              "     title=\"Hide section\" \n",
              "    onclick=\"toggleVisibility('acquisition-b7acdc59-8326-4f8f-9131-f4169c744da5')\">\n",
              "    <th class=\"mne-repr-section-toggle\">\n",
              "        <button >\n",
              "            <svg xmlns=\"http://www.w3.org/2000/svg\" viewBox=\"0 0 512 512\"><!--!Font Awesome Free 6.6.0 by @fontawesome - https://fontawesome.com License - https://fontawesome.com/license/free Copyright 2024 Fonticons, Inc.--><path d=\"M233.4 406.6c12.5 12.5 32.8 12.5 45.3 0l192-192c12.5-12.5 12.5-32.8 0-45.3s-32.8-12.5-45.3 0L256 338.7 86.6 169.4c-12.5-12.5-32.8-12.5-45.3 0s-12.5 32.8 0 45.3l192 192z\"/></svg>\n",
              "        </button>\n",
              "    </th>\n",
              "    <th colspan=\"2\">\n",
              "        <strong>Acquisition</strong>\n",
              "    </th>\n",
              "</tr>\n",
              "\n",
              "\n",
              "<tr class=\"repr-element acquisition-b7acdc59-8326-4f8f-9131-f4169c744da5 \">\n",
              "    <td class=\"mne-repr-section-toggle\"></td>\n",
              "    <td>Duration</td>\n",
              "    <td>00:02:02 (HH:MM:SS)</td>\n",
              "</tr>\n",
              "\n",
              "\n",
              "\n",
              "\n",
              "\n",
              "\n",
              "\n",
              "\n",
              "<tr class=\"repr-element acquisition-b7acdc59-8326-4f8f-9131-f4169c744da5 \">\n",
              "    <td class=\"mne-repr-section-toggle\"></td>\n",
              "    <td>Sampling frequency</td>\n",
              "    <td>250.00 Hz</td>\n",
              "</tr>\n",
              "\n",
              "\n",
              "<tr class=\"repr-element acquisition-b7acdc59-8326-4f8f-9131-f4169c744da5 \">\n",
              "    <td class=\"mne-repr-section-toggle\"></td>\n",
              "    <td>Time points</td>\n",
              "    <td>30,251</td>\n",
              "</tr>\n",
              "\n",
              "\n",
              "    \n",
              "\n",
              "\n",
              "\n",
              "\n",
              "\n",
              "\n",
              "\n",
              "<tr class=\"mne-repr-section-header channels-102c93e5-cfc3-45b6-8b23-cd69b2788d66\"\n",
              "     title=\"Hide section\" \n",
              "    onclick=\"toggleVisibility('channels-102c93e5-cfc3-45b6-8b23-cd69b2788d66')\">\n",
              "    <th class=\"mne-repr-section-toggle\">\n",
              "        <button >\n",
              "            <svg xmlns=\"http://www.w3.org/2000/svg\" viewBox=\"0 0 512 512\"><!--!Font Awesome Free 6.6.0 by @fontawesome - https://fontawesome.com License - https://fontawesome.com/license/free Copyright 2024 Fonticons, Inc.--><path d=\"M233.4 406.6c12.5 12.5 32.8 12.5 45.3 0l192-192c12.5-12.5 12.5-32.8 0-45.3s-32.8-12.5-45.3 0L256 338.7 86.6 169.4c-12.5-12.5-32.8-12.5-45.3 0s-12.5 32.8 0 45.3l192 192z\"/></svg>\n",
              "        </button>\n",
              "    </th>\n",
              "    <th colspan=\"2\">\n",
              "        <strong>Channels</strong>\n",
              "    </th>\n",
              "</tr>\n",
              "\n",
              "\n",
              "    \n",
              "<tr class=\"repr-element channels-102c93e5-cfc3-45b6-8b23-cd69b2788d66 \">\n",
              "    <td class=\"mne-repr-section-toggle\"></td>\n",
              "    <td>EEG</td>\n",
              "    <td>\n",
              "        <button class=\"mne-ch-names-btn sd-sphinx-override sd-btn sd-btn-info sd-text-wrap sd-shadow-sm\" onclick=\"alert('Good EEG:\\n\\nF8, O1, O2, F7')\" title=\"(Click to open in popup)&#13;&#13;F8, O1, O2, F7\">\n",
              "            4\n",
              "        </button>\n",
              "\n",
              "        \n",
              "    </td>\n",
              "</tr>\n",
              "\n",
              "\n",
              "<tr class=\"repr-element channels-102c93e5-cfc3-45b6-8b23-cd69b2788d66 \">\n",
              "    <td class=\"mne-repr-section-toggle\"></td>\n",
              "    <td>Head & sensor digitization</td>\n",
              "    \n",
              "    <td>7 points</td>\n",
              "    \n",
              "</tr>\n",
              "    \n",
              "\n",
              "\n",
              "\n",
              "\n",
              "\n",
              "\n",
              "\n",
              "<tr class=\"mne-repr-section-header filters-264d01b6-b18d-49c6-b8e7-4de11dc61615\"\n",
              "     title=\"Hide section\" \n",
              "    onclick=\"toggleVisibility('filters-264d01b6-b18d-49c6-b8e7-4de11dc61615')\">\n",
              "    <th class=\"mne-repr-section-toggle\">\n",
              "        <button >\n",
              "            <svg xmlns=\"http://www.w3.org/2000/svg\" viewBox=\"0 0 512 512\"><!--!Font Awesome Free 6.6.0 by @fontawesome - https://fontawesome.com License - https://fontawesome.com/license/free Copyright 2024 Fonticons, Inc.--><path d=\"M233.4 406.6c12.5 12.5 32.8 12.5 45.3 0l192-192c12.5-12.5 12.5-32.8 0-45.3s-32.8-12.5-45.3 0L256 338.7 86.6 169.4c-12.5-12.5-32.8-12.5-45.3 0s-12.5 32.8 0 45.3l192 192z\"/></svg>\n",
              "        </button>\n",
              "    </th>\n",
              "    <th colspan=\"2\">\n",
              "        <strong>Filters</strong>\n",
              "    </th>\n",
              "</tr>\n",
              "\n",
              "\n",
              "<tr class=\"repr-element filters-264d01b6-b18d-49c6-b8e7-4de11dc61615 \">\n",
              "    <td class=\"mne-repr-section-toggle\"></td>\n",
              "    <td>Highpass</td>\n",
              "    <td>1.00 Hz</td>\n",
              "</tr>\n",
              "\n",
              "\n",
              "<tr class=\"repr-element filters-264d01b6-b18d-49c6-b8e7-4de11dc61615 \">\n",
              "    <td class=\"mne-repr-section-toggle\"></td>\n",
              "    <td>Lowpass</td>\n",
              "    <td>30.00 Hz</td>\n",
              "</tr>\n",
              "\n",
              "\n",
              "<tr class=\"repr-element filters-264d01b6-b18d-49c6-b8e7-4de11dc61615 \">\n",
              "    <td class=\"mne-repr-section-toggle\"></td>\n",
              "    <td>Projections</td>\n",
              "    <td>\n",
              "        \n",
              "        Average EEG reference (off)\n",
              "        \n",
              "        \n",
              "    </td>\n",
              "</tr>\n",
              "\n",
              "</table>"
            ]
          },
          "metadata": {},
          "execution_count": 64
        }
      ]
    },
    {
      "cell_type": "markdown",
      "metadata": {
        "id": "XM3eqdGsRrsP"
      },
      "source": [
        "# 2. Epoching & visual artefact rejection\n",
        "## Restart Kernel & Clear Output"
      ]
    },
    {
      "cell_type": "code",
      "execution_count": null,
      "metadata": {
        "scrolled": true,
        "id": "BQ21KJzeRrsP"
      },
      "outputs": [],
      "source": [
        "# declare subject and session names, as well as the folder path with the EEG data\n",
        "# we are now using another folder that contains the data from each subject in a separate folder\n",
        "# (e.g.'(e.g.'D:\\PhD\\EEG_Dreem\\preproc\\245_1_start.fif')')\n",
        "\n",
        "sub_s           = '247'     #change this according to subject number\n",
        "ses             = '3'\n",
        "t0_start        = 2017\n",
        "t0_end          = 3350\n",
        "\n",
        "#new_srate       = 500\n",
        "\n",
        "data_path       = 'D:\\\\PhD\\\\EEG_Dreem\\\\data\\\\'#change\n",
        "base_path       = data_path + 'preproc\\\\'+ sub_s + '_' + ses + '_'\n",
        "clean_path      = data_path + 'clean\\\\'+ sub_s + '_' + ses + '_'\n",
        "clean_best_path = data_path + 'clean\\\\best_electrode' + sub_s + '_' + ses + '_'\n",
        "\n",
        "\n",
        "# check that the path is correctly written\n",
        "print(base_path)"
      ]
    },
    {
      "cell_type": "markdown",
      "metadata": {
        "id": "rE85quV0RrsQ"
      },
      "source": [
        "## LOAD & CUT 'START'\n",
        "##### LOAD"
      ]
    },
    {
      "cell_type": "code",
      "execution_count": null,
      "metadata": {
        "id": "wNCUf8sRRrsQ"
      },
      "outputs": [],
      "source": [
        "cond = 'start'\n",
        "\n",
        "raw_path_start  = base_path + 'start.fif' ##### change here\n",
        "\n",
        "# read the data\n",
        "start           = read_raw_fif(raw_path_start, preload=True)\n",
        "\n",
        "#resample to 500 Hz --> not needed because 250Hz for Dreem data\n",
        "#raw.resample(new_srate, npad=\"auto\")\n",
        "#print(raw.info)\n",
        "\n",
        "#if need to define electrodes localization (normally already done on VS code)\n",
        "#montage = mne.channels.read_custom_montage('chanlocs.loc',coord_frame='head')\n",
        "#montage.plot()\n",
        "#start.set_montage(montage)\n",
        "\n",
        "#Plot data\n",
        "%matplotlib tk\n",
        "#to activate at least once (to redo if restart kernel)\n",
        "#to see all data and scroll troughout data\n",
        "\n",
        "#%matplotlib inline\n",
        "#to see one screenshot in 2D\n",
        "#mne.viz.plot_raw(start, remove_dc=True)\n",
        "\n",
        "fig=start.plot()\n",
        "fig.fake_keypress(\"a\")\n",
        "#to annote bad quality signal to delete afterwards"
      ]
    },
    {
      "cell_type": "code",
      "execution_count": null,
      "metadata": {
        "id": "eqqnP1UwRrsQ"
      },
      "outputs": [],
      "source": [
        "interactive_annot = start.annotations\n",
        "annot_path = base_path + cond + \"_saved-annotations.txt\"\n",
        "start.annotations.save(annot_path,overwrite=True)\n",
        "\n",
        "for ann in start.annotations:\n",
        "    descr = ann[\"description\"]\n",
        "    if descr == \"BAD_\":\n",
        "        t_start = ann[\"onset\"]\n",
        "        t_end = ann[\"onset\"] + ann[\"duration\"]\n",
        "        print(f\"'{descr}' goes from {t_start-t0_start} to {t_end-t0_start}\")"
      ]
    },
    {
      "cell_type": "markdown",
      "metadata": {
        "id": "LxRvnp-KRrsQ"
      },
      "source": [
        "##### CUT\n",
        "###### EXPLANATION CUTTING PART\n",
        "\n",
        "- If signal is not cut from the beginning --> only keep tmax & tmax = start of first segment labelled as BAD_\n",
        "- If signal is cut from the beginning --> tmin = end of first segment labelled as BAD_ & tmax = start of the following segment labelled as BAD_\n",
        "- If signal is not cut up to the end --> only keep tmin & tmin = end of last segment labelled as BAD_\n",
        "- If signal is cut up to the end --> can don't need to specify to cut until the end, just stop at the one before last (see example)\n",
        "\n",
        "e.g., if we have a signal lasting 50sec:\n",
        "- 'BAD_' goes from 15.00 to 17.00\n",
        "- 'BAD_' goes from 23.00 to 28.00\n",
        "- 'BAD_' goes from 45.00 to 50.00\n",
        "\n",
        "We have to write the following:\n",
        "- start1= start.copy().crop(tmax=15)\n",
        "- start2= start.copy().crop(tmin=17, tmax=23)\n",
        "- start3= start.copy().crop(tmin=28, tmax=45)"
      ]
    },
    {
      "cell_type": "code",
      "execution_count": null,
      "metadata": {
        "id": "s8-TQCoHRrsQ"
      },
      "outputs": [],
      "source": [
        "start1=start.copy().crop(tmin=11.175202855103635, tmax=13.130445110635264)\n",
        "start2=start.copy().crop(tmin=14.51286795146325, tmax=15.803890935046411)\n",
        "start3=start.copy().crop(tmin=16.660764596716717, tmax=19.661392719486003)\n",
        "start4=start.copy().crop(tmin=33.55524054246962, tmax=37.136471663097836)\n",
        "start5=start.copy().crop(tmin=41.723601998572576, tmax=51.11807794432525)\n",
        "start6=start.copy().crop(tmin=56.00589921484652, tmax=59.71851763026416)\n",
        "start7=start.copy().crop(tmin=66.45511491791603, tmax=73.76660271234823)\n",
        "start8=start.copy().crop(tmin=84.44638915060659, tmax=85.44400399714505)\n",
        "start9=start.copy().crop(tmin=86.23804025695927, tmax=96.15963568879351)\n",
        "start10=start.copy().crop(tmin=113.9893898643827)\n",
        "\n",
        "'''start11=start.copy().crop(tmin=69.56095303354743, tmax=72.27438629550323)\n",
        "start12=start.copy().crop(tmin=72.57714832262673, tmax=74.50589921484652)\n",
        "start13=start.copy().crop(tmin=74.75153633119197, tmax=75.46716802284084)\n",
        "start14=start.copy().crop(tmin=76.44400399714493, tmax=76.95241570306922)\n",
        "start15=start.copy().crop(tmin=77.32372762312633, tmax=92.19234032833685)\n",
        "start16=start.copy().crop(tmin=93.03778900785147, tmax=96.48970392576734)\n",
        "start17=start.copy().crop(tmin=97.24946523911495, tmax=104.15536616702354)\n",
        "start18=start.copy().crop(tmin=106.93163683083509, tmax=109.2353410421128)\n",
        "start19=start.copy().crop(tmin=110.04651477516063, tmax=117.01284796573879)\n",
        "start20=start.copy().crop(tmin=117.60670949321917, tmax=118.0178443968594)\n",
        "start21=start.copy().crop(tmin=118.29193433261958, tmax=119.49107780157033)\n",
        "start22=start.copy().crop(tmin=121)'''\n",
        "\n",
        "start_cut = mne.concatenate_raws([start1,start2,start3,start4,start5,start6,start7,start8,start9,start10])#,start11,start12,start13,start14,start15,start16,start17,start18,start19,start20,start21,start22\n",
        "del(start1,start2,start3,start4,start5,start6,start7,start8,start9,start10)#,start11,start12,start13,start14,start15,start16,start17,start18,start19,start20,start21,start22"
      ]
    },
    {
      "cell_type": "code",
      "execution_count": null,
      "metadata": {
        "scrolled": true,
        "id": "IM5fAnZuRrsQ"
      },
      "outputs": [],
      "source": [
        "#to see if correctly cut (optional)\n",
        "%matplotlib tk\n",
        "mne.viz.plot_raw(start_cut, remove_dc=True)"
      ]
    },
    {
      "cell_type": "markdown",
      "metadata": {
        "id": "Dfp3ywRhRrsQ"
      },
      "source": [
        "###### SECOND (OR MORE) CUTS\n",
        "If needed"
      ]
    },
    {
      "cell_type": "code",
      "execution_count": null,
      "metadata": {
        "id": "kZ8mjUbpRrsQ"
      },
      "outputs": [],
      "source": [
        "my_annot = mne.Annotations(\n",
        "    onset=[0],  # in seconds\n",
        "    duration=[0],  # in seconds, too\n",
        "    description=[\"AAA\"],\n",
        ")\n",
        "start_cut.set_annotations(my_annot)"
      ]
    },
    {
      "cell_type": "code",
      "execution_count": null,
      "metadata": {
        "id": "J_MSP_zNRrsQ"
      },
      "outputs": [],
      "source": [
        "# check if first annotation added\n",
        "fig=start_cut.plot()\n",
        "fig.fake_keypress(\"a\")"
      ]
    },
    {
      "cell_type": "code",
      "execution_count": null,
      "metadata": {
        "id": "Mbvktp2DRrsR"
      },
      "outputs": [],
      "source": [
        "Cannotations = start_cut.annotations\n",
        "ann = Cannotations[0]\n",
        "descr0 = ann[\"description\"]\n",
        "t_start= ann[\"onset\"]\n",
        "t_end = ann[\"onset\"] + ann[\"duration\"]\n",
        "\n",
        "for ann in Cannotations:\n",
        "    descr = ann[\"description\"]\n",
        "    if descr == \"BAD_\":\n",
        "        start = ann[\"onset\"]\n",
        "        end = ann[\"onset\"] + ann[\"duration\"]\n",
        "        print(f\"'{descr}' goes from {start-t_start} to {end-t_end}\")\n",
        "\n",
        "# double check that annotation \"AAA\" is added and that the timings are ok"
      ]
    },
    {
      "cell_type": "code",
      "execution_count": null,
      "metadata": {
        "id": "jWZh0t21RrsR"
      },
      "outputs": [],
      "source": [
        "#change the name of start_cut & start_cut2 if needed\n",
        "start1=start_cut.copy().crop(tmax =74.19765881513217)\n",
        "start2=start_cut.copy().crop(tmin=75.2711777301929)\n",
        "\n",
        "'''start3=start_cut.copy().crop(tmin=57.57840456816561, tmax=74.4308219842969)\n",
        "start4=start_cut.copy().crop(tmin=75.04777102069946)\n",
        "start5=start_cut.copy().crop(tmin=34.332139329050676, tmax=50.39052048536759)\n",
        "start6=start_cut.copy().crop(tmin=53.27532847965738)\n",
        "'''\n",
        "start_cut2 = mne.concatenate_raws([start1,start2]) #,start3,start4,start5,start6])\n",
        "del(start1,start2) #,start3,start4,start5,start6)"
      ]
    },
    {
      "cell_type": "code",
      "execution_count": null,
      "metadata": {
        "id": "X68-SzkeRrsR"
      },
      "outputs": [],
      "source": [
        "mne.viz.plot_raw(start_cut2)"
      ]
    },
    {
      "cell_type": "code",
      "execution_count": null,
      "metadata": {
        "id": "cpEFpUQ_RrsR"
      },
      "outputs": [],
      "source": [
        "#save clean\n",
        "#start_cut2 = if cut the signal twice & start_cut = if cut the signal once\n",
        "start_cut.save(clean_path + \"start_clean.fif\",  overwrite=True)"
      ]
    },
    {
      "cell_type": "markdown",
      "metadata": {
        "id": "5zDlGFGvRrsR"
      },
      "source": [
        "## LOAD & CUT 'END'\n",
        "##### LOAD"
      ]
    },
    {
      "cell_type": "code",
      "execution_count": null,
      "metadata": {
        "id": "lI0luS52RrsR"
      },
      "outputs": [],
      "source": [
        "cond = 'end'\n",
        "raw_path_end      = base_path + 'end.fif' ##### change here\n",
        "\n",
        "# read the data\n",
        "end           = read_raw_fif(raw_path_end, preload=True)\n",
        "\n",
        "#resample to 500 Hz --> not needed because 250Hz for Dreem data\n",
        "#raw.resample(new_srate, npad=\"auto\")\n",
        "\n",
        "# si besoin de definir la localisation des electrodes\n",
        "#montage = mne.channels.read_custom_montage('chanlocs.loc',coord_frame='head')\n",
        "#montage.plot()\n",
        "#end.set_montage(montage)\n",
        "\n",
        "#Plot data\n",
        "%matplotlib tk\n",
        "#to see all data and scroll troughout data\n",
        "\n",
        "#%matplotlib inline\n",
        "#to see one screenshot in 2D\n",
        "\n",
        "#mne.viz.plot_raw(end, remove_dc=True)\n",
        "\n",
        "fig=end.plot()\n",
        "fig.fake_keypress(\"a\")\n",
        "#to annote bad quality signal to delete afterwards"
      ]
    },
    {
      "cell_type": "markdown",
      "metadata": {
        "id": "5Nnot21bRrsR"
      },
      "source": [
        "##### CUT\n",
        "See 'Start' part for explanation"
      ]
    },
    {
      "cell_type": "code",
      "execution_count": null,
      "metadata": {
        "id": "1aFfM6IoRrsR"
      },
      "outputs": [],
      "source": [
        "interactive_annot=end.annotations\n",
        "annot_path = base_path + cond + \"_saved-annotations.txt\"\n",
        "end.annotations.save(annot_path,overwrite=True)\n",
        "\n",
        "for ann in end.annotations:\n",
        "    descr = ann[\"description\"]\n",
        "    if descr == \"BAD_\":\n",
        "        tstart = ann[\"onset\"]\n",
        "        tend = ann[\"onset\"] + ann[\"duration\"]\n",
        "        print(f\"'{descr}' goes from {tstart-t0_end} to {tend-t0_end}\")"
      ]
    },
    {
      "cell_type": "code",
      "execution_count": null,
      "metadata": {
        "scrolled": true,
        "id": "E1EmVwNdRrsR"
      },
      "outputs": [],
      "source": [
        "end1= end.copy().crop(tmin=20.146954461099085, tmax=28.206778586723885)\n",
        "end2= end.copy().crop(tmin=30.554612419700334, tmax=34.49573047822969)\n",
        "end3= end.copy().crop(tmin=35.44971648822275, tmax=43.31531591720204)\n",
        "end4= end.copy().crop(tmin=44.2693019271951, tmax=48.16472005710193)\n",
        "end5= end.copy().crop(tmin=71.4893898643827, tmax=115.68308351177711)\n",
        "end6= end.copy().crop(tmin=120.84511063526043)\n",
        "\n",
        "'''end7= end.copy().crop(tmin=48.061895217701476, tmax=60.80753233404721)\n",
        "end8= end.copy().crop(tmin=64.3664142755174, tmax=71.33101042112776)\n",
        "end9= end.copy().crop(tmin=71.70803483226246, tmax=92.61424982155586)\n",
        "end10= end.copy().crop(tmin=95.88750720913595, tmax=98.37972362598157)\n",
        "end11= end.copy().crop(tmin=102.90401655960022, tmax=108.97953518915074)\n",
        "end12= end.copy().crop(tmin=112.40702983583151,tmax=114.85561741613128)\n",
        "end13= end.copy().crop(tmin=115.74105353319055, tmax=121.68451106352586)\n",
        "end14= end.copy().crop(tmin=65.71613247680216, tmax=67.39353376159897)\n",
        "end15= end.copy().crop(tmin=68.21041998572446, tmax=69.13377244825142)\n",
        "end16= end.copy().crop(tmin=69.67645910064266, tmax=74.37005567451797)\n",
        "end17= end.copy().crop(tmin=75.31832919343287, tmax=75.85530335474641)\n",
        "end18= end.copy().crop(tmin=77.7232879371877, tmax=80.14695446109909)\n",
        "end19= end.copy().crop(tmin=86.46082740899374, tmax=87.62981698786598)\n",
        "end20= end.copy().crop(tmin=88.25819100642411, tmax=89.49573047822969)\n",
        "end21= end.copy().crop(tmin=90.01556716630967, tmax=91.97859300499658)\n",
        "end22= end.copy().crop(tmin=92.81261670235563, tmax=94.88210877944312)\n",
        "end23= end.copy().crop(tmin=97.34419243397542, tmax=102.17488879371876)\n",
        "end24= end.copy().crop(tmin=103.0032000000001, tmax=108.12109122055654)\n",
        "end25= end.copy().crop(tmin=111.68932705210545, tmax=114.01016873661683)\n",
        "end26= end.copy().crop(tmin=117.76327537473253, tmax=121)\n",
        "end27= end.copy().crop(tmin=121.24982155603129)\n",
        "end28= end.copy().crop(tmin=110.68964111349123, tmax=116.18415417558845)\n",
        "end29= end.copy().crop(tmin=116.54389721627376, tmax=117.15488936473957 )\n",
        "end30= end.copy().crop(tmin=118.20556745182057)'''\n",
        "\n",
        "end_cut = mne.concatenate_raws([end1,end2,end3,end4,end5,end6]) #,end7,end8,end9,end10,end11,end12,end13,end14,end15,end16,end17,end18,end19,end20,end21,end22,end23,end24,end25,end26,end27,end28,end29,end30])\n",
        "del(end1,end2,end3,end4,end5,end6) #,end7,end8,end9,end10,end11,end12,end13,end14,end15,end16,end17,end18,end19,end20,end21,end22,end23,end24,end25,end26,end27,end28,end29,end30)"
      ]
    },
    {
      "cell_type": "code",
      "execution_count": null,
      "metadata": {
        "id": "ZW68QirrRrsR"
      },
      "outputs": [],
      "source": [
        "#to see if correctly cut (optional)\n",
        "%matplotlib tk\n",
        "mne.viz.plot_raw(end_cut, remove_dc=True)"
      ]
    },
    {
      "cell_type": "markdown",
      "metadata": {
        "id": "YyJ6Qm3zRrsR"
      },
      "source": [
        "###### SECOND (OR MORE) CUTS\n",
        "If needed"
      ]
    },
    {
      "cell_type": "code",
      "execution_count": null,
      "metadata": {
        "id": "rSepQpHXRrsR"
      },
      "outputs": [],
      "source": [
        "my_annot = mne.Annotations(\n",
        "    onset=[0],  # in seconds\n",
        "    duration=[0],  # in seconds, too\n",
        "    description=[\"AAA\"],\n",
        ")\n",
        "end_cut.set_annotations(my_annot)"
      ]
    },
    {
      "cell_type": "code",
      "execution_count": null,
      "metadata": {
        "id": "tA7DmMqPRrsR"
      },
      "outputs": [],
      "source": [
        "# check if first annotation added\n",
        "fig=end_cut.plot()\n",
        "fig.fake_keypress(\"a\")"
      ]
    },
    {
      "cell_type": "code",
      "execution_count": null,
      "metadata": {
        "id": "yYs8MxBZRrsR"
      },
      "outputs": [],
      "source": [
        "Cannotations = end_cut.annotations\n",
        "ann = Cannotations[0]\n",
        "descr0 = ann[\"description\"]\n",
        "t_start= ann[\"onset\"]\n",
        "t_end = ann[\"onset\"] + ann[\"duration\"]\n",
        "\n",
        "for ann in Cannotations:\n",
        "    descr = ann[\"description\"]\n",
        "    if descr == \"BAD_\":\n",
        "        start = ann[\"onset\"]\n",
        "        end = ann[\"onset\"] + ann[\"duration\"]\n",
        "        print(f\"'{descr}' goes from {start-t_start} to {end-t_end}\")\n",
        "\n",
        "# double check that annotation \"AAA\" is added and that the timings are ok"
      ]
    },
    {
      "cell_type": "code",
      "execution_count": null,
      "metadata": {
        "id": "i3aIvvPaRrsR"
      },
      "outputs": [],
      "source": [
        "#change the name of end_cut & end_cut2 if needed\n",
        "end1= end_cut.copy().crop(tmin=3.9187688793717825, tmax=18.958756316916606)\n",
        "end2= end_cut.copy().crop(tmin=20.152666952177242)\n",
        "\n",
        "'''end3= end_cut.copy().crop(tmin=78.98731877230557, tmax=107.92479543183435)\n",
        "end4= end_cut.copy().crop(tmin=109.43289307637406, tmax=116.93289307637406)\n",
        "end5= end_cut.copy().crop(tmin=128.22544696645264)'''\n",
        "\n",
        "end_cut2 = mne.concatenate_raws([end1,end2]) #,end3,end4,end5])\n",
        "del(end1,end2) #,end3,end4,end5)"
      ]
    },
    {
      "cell_type": "code",
      "execution_count": null,
      "metadata": {
        "id": "LHfq48gSRrsS"
      },
      "outputs": [],
      "source": [
        "#to see if correctly cut (optional)\n",
        "%matplotlib tk\n",
        "mne.viz.plot_raw(end_cut2, remove_dc=True)"
      ]
    },
    {
      "cell_type": "code",
      "execution_count": null,
      "metadata": {
        "id": "j-hq2oopRrsS"
      },
      "outputs": [],
      "source": [
        "#save clean\n",
        "#end_cut2 = if cut the signal twice & end_cut = if cut the signal once\n",
        "end_cut.save(clean_path + \"end_clean.fif\",overwrite=True)"
      ]
    },
    {
      "cell_type": "code",
      "execution_count": null,
      "metadata": {
        "id": "GEfA9imfRrsS"
      },
      "outputs": [],
      "source": [
        "# if you forgot to close the file and need to re-specify the bad channels use this command\n",
        "#end_cut.info['bads'].extend(['F8', 'O1'])"
      ]
    },
    {
      "cell_type": "markdown",
      "metadata": {
        "id": "JDQ44KPZRrsS"
      },
      "source": [
        "##### SELECT BAD ELECTRODES"
      ]
    },
    {
      "cell_type": "code",
      "execution_count": null,
      "metadata": {
        "id": "mYo8F2muRrsS"
      },
      "outputs": [],
      "source": [
        "# select bad electrodes in start and apply to end\n",
        "#be careful of the name (start_cut2 vs start_cut, based on the number of times it was cut)\n",
        "\n",
        "baddies = start_cut.info['bads']\n",
        "baaddies = end_cut.info['bads']\n",
        "if (len(baddies) == len(baaddies)) == True:\n",
        "    print('same number of electrodes')\n",
        "for i in np.unique(baddies):\n",
        "    print('i:', i)\n",
        "    if i in baaddies:\n",
        "        continue\n",
        "    else:\n",
        "        end_cut.info['bads'].extend([i])\n",
        "\n",
        "for j in np.unique(baaddies):\n",
        "    if j in baddies:\n",
        "        continue\n",
        "    else:\n",
        "        start_cut.info['bads'].extend([j])\n",
        "\n",
        "print('final electrodes end:', baaddies)\n",
        "print('final electrodes start:', baddies)"
      ]
    },
    {
      "cell_type": "code",
      "execution_count": null,
      "metadata": {
        "id": "-R6FmeZNRrsS"
      },
      "outputs": [],
      "source": [
        "# use this command \".pop(-1)\" to remove a bad channel that you mistakenly marked as bad\n",
        "#PCI.info['bads'].pop(-1)#.extend(['C6', 'AF4', 'C5', 'AF8', 'AFp4h', 'AFp3h', 'TTP8h', 'TTP7h', 'FCC6h', 'C3', 'AF3'])"
      ]
    },
    {
      "cell_type": "code",
      "execution_count": null,
      "metadata": {
        "id": "W14MLHpORrsS"
      },
      "outputs": [],
      "source": [
        "# use this command if you need to completely remove channels\n",
        "#start.drop_channels(['HEOGL'])\n",
        "#end.drop_channels(['HEOGL'])"
      ]
    },
    {
      "cell_type": "code",
      "execution_count": null,
      "metadata": {
        "id": "R9OmD-1lRrsZ"
      },
      "outputs": [],
      "source": [
        "#Save both clean files\n",
        "start_cut2.save(clean_path + \"start_clean.fif\",  overwrite=True)\n",
        "end_cut2.save(clean_path + \"end_clean.fif\",overwrite=True)"
      ]
    },
    {
      "cell_type": "markdown",
      "metadata": {
        "id": "TjMMGK7vRrsZ"
      },
      "source": [
        "## 3. SPECTRAL CHECKS"
      ]
    },
    {
      "cell_type": "markdown",
      "metadata": {
        "id": "C8fqdolwRrsa"
      },
      "source": [
        "### Power spectral analysis (PSD)\n",
        "\n",
        "Plot will represent a histogram of frequency information.\n",
        "\n",
        "Normal plot = power highest at the lowest frequencies and drops off with increasing frequency (= 1/f property)\n",
        "\n",
        "Spikes might appear at different frequencies:\n",
        "- 10Hz represent alpha band\n",
        "- Other spikes might represent interference"
      ]
    },
    {
      "cell_type": "code",
      "execution_count": null,
      "metadata": {
        "id": "J6qghAiRRrsa"
      },
      "outputs": [],
      "source": [
        "# A. If signal cleaned and cut\n",
        "start = read_raw_fif(clean_path + \"start_clean.fif\")\n",
        "end = read_raw_fif(clean_path + \"end_clean.fif\")\n",
        "\n",
        "# B. If the signal not cut & raw\n",
        "#start = read_raw_fif(base_path + \"start.fif\")"
      ]
    },
    {
      "cell_type": "code",
      "execution_count": null,
      "metadata": {
        "id": "ZScMCMlARrsa"
      },
      "outputs": [],
      "source": [
        "from mne.time_frequency import tfr_morlet"
      ]
    },
    {
      "cell_type": "code",
      "execution_count": null,
      "metadata": {
        "id": "NsxijkdLRrsa"
      },
      "outputs": [],
      "source": [
        "#PSD of raw clean data\n",
        "\n",
        "%matplotlib tk\n",
        "start.compute_psd(fmax=40).plot()\n",
        "end.compute_psd(fmax=40).plot()"
      ]
    },
    {
      "cell_type": "code",
      "execution_count": null,
      "metadata": {
        "id": "nkJW5MCvRrsa"
      },
      "outputs": [],
      "source": [
        "# Average reference for start\n",
        "start0=start.copy().load_data()\n",
        "start0.set_eeg_reference('average', projection=False)"
      ]
    },
    {
      "cell_type": "code",
      "execution_count": null,
      "metadata": {
        "id": "6P02PJLGRrsa"
      },
      "outputs": [],
      "source": [
        "# Average reference for end\n",
        "end0=end.copy().load_data()\n",
        "end0.set_eeg_reference('average', projection=False)"
      ]
    },
    {
      "cell_type": "code",
      "execution_count": null,
      "metadata": {
        "id": "ujZiSc7URrsa"
      },
      "outputs": [],
      "source": [
        "start0.save(base_path + \"start_preproc.fif\", overwrite=True)\n",
        "end0.save(base_path + \"end_preproc.fif\", overwrite=True)"
      ]
    },
    {
      "cell_type": "code",
      "execution_count": null,
      "metadata": {
        "id": "DiwcBkEZRrsa"
      },
      "outputs": [],
      "source": [
        "%matplotlib tk\n",
        "mne.viz.plot_raw(start0, remove_dc=True)"
      ]
    },
    {
      "cell_type": "code",
      "execution_count": null,
      "metadata": {
        "id": "6NOfdYk6Rrsa"
      },
      "outputs": [],
      "source": [
        "%matplotlib tk\n",
        "mne.viz.plot_raw(end0, remove_dc=True)"
      ]
    },
    {
      "cell_type": "code",
      "execution_count": null,
      "metadata": {
        "scrolled": true,
        "id": "DLez5kCMRrsa"
      },
      "outputs": [],
      "source": [
        "%matplotlib tk\n",
        "start0.compute_psd(fmax=40).plot()\n",
        "end0.compute_psd(fmax=40).plot()"
      ]
    },
    {
      "cell_type": "code",
      "execution_count": null,
      "metadata": {
        "id": "xE4Q5OZ2Rrsa"
      },
      "outputs": [],
      "source": [
        "start.compute_psd().plot_topomap(ch_type='eeg', extrapolate='head', cmap=\"RdBu_r\", sensors=False, normalize=True)\n",
        "end.compute_psd().plot_topomap(ch_type='eeg', extrapolate='head', cmap=\"RdBu_r\", sensors=False, normalize=True)"
      ]
    },
    {
      "cell_type": "code",
      "execution_count": null,
      "metadata": {
        "id": "zD5f2rG5Rrsa"
      },
      "outputs": [],
      "source": []
    },
    {
      "cell_type": "markdown",
      "metadata": {
        "id": "Glq1XtnKRrsa"
      },
      "source": [
        "## 4. Save file with best electrode only"
      ]
    },
    {
      "cell_type": "code",
      "execution_count": null,
      "metadata": {
        "id": "yZ93Jmr5Rrsa"
      },
      "outputs": [],
      "source": [
        "sub_s           = '257'     #change this according to subject number\n",
        "ses             = '3'\n",
        "t0_start        = 94\n",
        "t0_end          = 2519\n",
        "\n",
        "data_path       = 'D:\\\\PhD\\\\EEG_Dreem\\\\data\\\\'#change\n",
        "base_path       = data_path + 'preproc\\\\'+ sub_s + '_' + ses + '_'\n",
        "clean_path      = data_path + 'clean\\\\'+ sub_s + '_' + ses + '_'\n",
        "clean_best_path = data_path + 'clean\\\\best_electrode\\\\' + sub_s + '_' + ses + '_'"
      ]
    },
    {
      "cell_type": "code",
      "execution_count": null,
      "metadata": {
        "id": "JDBo02oNRrsa"
      },
      "outputs": [],
      "source": [
        "# A. If take cleaned signal with 4 electrodes\n",
        "#start = read_raw_fif(clean_path + \"start_clean.fif\")\n",
        "#end = read_raw_fif(clean_path + \"end_clean.fif\")\n",
        "\n",
        "# B. If take raw signal\n",
        "startB = read_raw_fif(base_path + \"start.fif\", preload=True)\n",
        "endB = read_raw_fif(base_path + \"end.fif\", preload=True)"
      ]
    },
    {
      "cell_type": "code",
      "execution_count": null,
      "metadata": {
        "id": "kOYIPfyqRrsb"
      },
      "outputs": [],
      "source": [
        "startB.drop_channels(['O2','O1','F7']) # laisse seulement ceux à enlever"
      ]
    },
    {
      "cell_type": "markdown",
      "metadata": {
        "id": "B7ARBzYURrsb"
      },
      "source": [
        "##### START"
      ]
    },
    {
      "cell_type": "code",
      "execution_count": null,
      "metadata": {
        "id": "YVIE5zv2Rrsb"
      },
      "outputs": [],
      "source": [
        "#Plot data\n",
        "%matplotlib tk\n",
        "#to activate at least once (to redo if restart kernel)\n",
        "#to see all data and scroll troughout data\n",
        "\n",
        "#%matplotlib inline\n",
        "#to see one screenshot in 2D\n",
        "#mne.viz.plot_raw(start, remove_dc=True)\n",
        "\n",
        "fig=startB.plot()\n",
        "fig.fake_keypress(\"a\")\n",
        "#to annote bad quality signal to delete afterwards"
      ]
    },
    {
      "cell_type": "code",
      "execution_count": null,
      "metadata": {
        "id": "Bvz5ebV6Rrsb"
      },
      "outputs": [],
      "source": [
        "cond = 'startB'\n",
        "\n",
        "interactive_annot=startB.annotations\n",
        "# if F8 best electrode\n",
        "annot_path_F8 = base_path + cond + \"_saved-annotations-F8.txt\"\n",
        "startB.annotations.save(annot_path_F8,overwrite=True)\n",
        "\n",
        "# if O1 best electrode\n",
        "#annot_path_O1 = base_path + cond + \"_saved-annotations-O1.txt\"\n",
        "#startB.annotations.save(annot_path_O1,overwrite=True)\n",
        "\n",
        "for ann in startB.annotations:\n",
        "    descr = ann[\"description\"]\n",
        "    if descr == \"BAD_\":\n",
        "        tstart = ann[\"onset\"]\n",
        "        tend = ann[\"onset\"] + ann[\"duration\"]\n",
        "        print(f\"'{descr}' goes from {tstart-t0_start} to {tend-t0_start}\")"
      ]
    },
    {
      "cell_type": "code",
      "execution_count": null,
      "metadata": {
        "id": "W9UaM_MDRrsb"
      },
      "outputs": [],
      "source": [
        "start1=startB.copy().crop(tmin=10.11839200571022, tmax=16.030319486081368)\n",
        "start2=startB.copy().crop(tmin=17.007155460385434, tmax=31.241681655960036)\n",
        "start3=startB.copy().crop(tmin=31.870055674518213, tmax=47.71343326195574)\n",
        "start4=startB.copy().crop(tmin=48.810231548893654, tmax=49.472880513918625)\n",
        "start5=startB.copy().crop(tmin=50.181229407566036, tmax=58.14187009279087)\n",
        "start6=startB.copy().crop(tmin=62.55762569593148, tmax=63.935906352605286)\n",
        "start7=startB.copy().crop(tmin=64.49001798715204, tmax=78.48461955745896)\n",
        "start8=startB.copy().crop(tmin=80.1069670235546, tmax=86.75580585296217)\n",
        "start9=startB.copy().crop(tmin=87.89830406852246, tmax=91.81864325481797)\n",
        "start10=startB.copy().crop(tmin=93.14965367594573, tmax=97.5934709493219)\n",
        "start11=startB.copy().crop(tmin=99.4443180585296, tmax=115.05995717344757)\n",
        "start12=startB.copy().crop(tmin=116.76159885795863)\n",
        "'''\n",
        "start13=startB.copy().crop(tmin=86.76628865096359, tmax=88.58650221270523)\n",
        "start14=startB.copy().crop(tmin=89.04921399000705, tmax=95.7494652391149)\n",
        "start15=startB.copy().crop(tmin=95.94940242683788, tmax=110.7188316916488)\n",
        "start16=startB.copy().crop(tmin=112.25549179157747, tmax=114.53270463954323)\n",
        "start17=startB.copy().crop(tmin=116.01223982869374, tmax=121)\n",
        "start18=startB.copy().crop(tmin=110.74708008565312, tmax=112.63013104925062)\n",
        "start19=startB.copy().crop(tmin=116.53176245538907, tmax=117.08744439685938)\n",
        "start20=startB.copy().crop(tmin=118.5269921484653, tmax=119.7059243397573)\n",
        "start21=startB.copy().crop(tmin=122.09279086366882, tmax=123.98286937901503)\n",
        "start22=startB.copy().crop(tmin=126)\n",
        "start23=startB.copy().crop(tmin=83.75185039257673, tmax=90.47495160599573)\n",
        "start24=startB.copy().crop(tmin=90.7491511777302, tmax=92.2494652391149)\n",
        "start25=startB.copy().crop(tmin=92.85498929336188, tmax=95.86132990720915)\n",
        "start26=startB.copy().crop(tmin=97.95210164168452, tmax=104.09617016416843)\n",
        "start27=startB.copy().crop(tmin=107.00382812276939, tmax=109.41035717344755)\n",
        "start28=startB.copy().crop(tmin=109.75310663811564, tmax=115.63097787294794)\n",
        "start29=startB.copy().crop(tmin=115.84225553176304, tmax=117.17844396859391)\n",
        "start30=startB.copy().crop(tmin=117.50392576730911, tmax=118.0235546038544)\n",
        "start31=startB.copy().crop(tmin=118.30906495360455, tmax=119.49107780157033)\n",
        "start32=startB.copy().crop(tmin=121)'''\n",
        "\n",
        "startB_cut = mne.concatenate_raws([start1,start2,start3,start4,start5,start6,start7,start8,start9,start10,start11,start12])#,start13,start14,start15,start16,start17,start18,start19,start20,start21,start22,start23,start24,start25,start26,start27,start28,start29,start30,start31,start32])\n",
        "del(start1,start2,start3,start4,start5,start6,start7,start8,start9,start10,start11,start12)#,start13,start14,start15,start16,start17,start18,start19,start20,start21,start22,start23,start24,start25,start26,start27,start28,start29,start30,start31,start32)"
      ]
    },
    {
      "cell_type": "code",
      "execution_count": null,
      "metadata": {
        "id": "aniD2UGQRrsb"
      },
      "outputs": [],
      "source": [
        "#to see if correctly cut (optional)\n",
        "%matplotlib tk\n",
        "mne.viz.plot_raw(startB_cut, remove_dc=True)"
      ]
    },
    {
      "cell_type": "code",
      "execution_count": null,
      "metadata": {
        "id": "HAblLDFERrsb"
      },
      "outputs": [],
      "source": [
        "#save clean with best electrode\n",
        "startB_cut.save(clean_best_path + \"start_best_clean.fif\",  overwrite=True)"
      ]
    },
    {
      "cell_type": "markdown",
      "metadata": {
        "id": "6FRCUOC0Rrsb"
      },
      "source": [
        "##### END"
      ]
    },
    {
      "cell_type": "code",
      "execution_count": null,
      "metadata": {
        "id": "mzHdtQ0GRrsb"
      },
      "outputs": [],
      "source": [
        "endB.drop_channels(['O1','O2','F7']) # laisse seulement ceux à enlever"
      ]
    },
    {
      "cell_type": "code",
      "execution_count": null,
      "metadata": {
        "id": "mgOP9d6QRrsb"
      },
      "outputs": [],
      "source": [
        "#Plot data\n",
        "%matplotlib tk\n",
        "#to activate at least once (to redo if restart kernel)\n",
        "#to see all data and scroll troughout data\n",
        "\n",
        "#%matplotlib inline\n",
        "#to see one screenshot in 2D\n",
        "#mne.viz.plot_raw(start, remove_dc=True)\n",
        "\n",
        "fig=endB.plot()\n",
        "fig.fake_keypress(\"a\")\n",
        "#to annote bad quality signal to delete afterwards"
      ]
    },
    {
      "cell_type": "code",
      "execution_count": null,
      "metadata": {
        "id": "LbV8R1fsRrsb"
      },
      "outputs": [],
      "source": [
        "cond = 'endB'\n",
        "\n",
        "interactive_annot=endB.annotations\n",
        "# if F8 best electrode\n",
        "annot_path_F8 = base_path + cond + \"_saved-annotations-F8.txt\"\n",
        "endB.annotations.save(annot_path_F8,overwrite=True)\n",
        "\n",
        "# if O1 best electrode\n",
        "#annot_path_O1 = base_path + cond + \"_saved-annotations-O1.txt\"\n",
        "#endB.annotations.save(annot_path_O1,overwrite=True)\n",
        "\n",
        "for ann in endB.annotations:\n",
        "    descr = ann[\"description\"]\n",
        "    if descr == \"BAD_\":\n",
        "        tstart = ann[\"onset\"]\n",
        "        tend = ann[\"onset\"] + ann[\"duration\"]\n",
        "        print(f\"'{descr}' goes from {tstart-t0_end} to {tend-t0_end}\")"
      ]
    },
    {
      "cell_type": "code",
      "execution_count": null,
      "metadata": {
        "scrolled": true,
        "id": "0ySa4JnqRrsb"
      },
      "outputs": [],
      "source": [
        "end1= endB.copy().crop(tmin=13.39529079229078, tmax=21.213119200570873 )\n",
        "end2= endB.copy().crop(tmin=21.652981013561657, tmax=30.79610735189135)\n",
        "end3= endB.copy().crop(tmin=34.00652733761581, tmax=35.33339557458976)\n",
        "end4= endB.copy().crop(tmin=36.001757030692715, tmax=62.793408137044935)\n",
        "end5= endB.copy().crop(tmin=67.77470035688793, tmax=84.75279257673083)\n",
        "end6= endB.copy().crop(tmin=89.12856074232695, tmax=105.19265438972161)\n",
        "end7= endB.copy().crop(tmin=107.63188807994266)\n",
        "\n",
        "'''\n",
        "end8= endB.copy().crop(tmin=70.04080228408293, tmax=70.91845481798714)\n",
        "end9= endB.copy().crop(tmin=72.17520285510341, tmax=75.68424268379727)\n",
        "end10= endB.copy().crop(tmin=76.2783417558885, tmax=78.86974161313356)\n",
        "end11= endB.copy().crop(tmin=79.48669064953606, tmax=80.3243557458959)\n",
        "end12= endB.copy().crop(tmin=107.24739414703754, tmax=107.76723083511797)\n",
        "end13= endB.copy().crop(tmin=108.6698044254108, tmax=109.18964111349032)\n",
        "end14= endB.copy().crop(tmin=109.60665296216985, tmax=110.58348893647417)\n",
        "end15= endB.copy().crop(tmin=121)\n",
        "end16= endB.copy().crop(tmin=99.99478829407553, tmax=102.1956676659529)\n",
        "end17= endB.copy().crop(tmin=103.02397887223424, tmax=104.9013173447538)\n",
        "end18= endB.copy().crop(tmin=105.52397887223424, tmax=106.57093504639533)\n",
        "end19= endB.copy().crop(tmin=112.2320137044967, tmax=114.14726852248396)\n",
        "end20= endB.copy().crop(tmin=117.77470035688793, tmax=120.02212705210559)\n",
        "end21= endB.copy().crop(tmin=121)\n",
        "end22= endB.copy().crop(tmin=92.81261670235563, tmax=94.88210877944312)\n",
        "end23= endB.copy().crop(tmin=97.34419243397542, tmax=102.17488879371876)\n",
        "end24= endB.copy().crop(tmin=103.0032000000001, tmax=108.12109122055654)\n",
        "end25= endB.copy().crop(tmin=111.68932705210545, tmax=114.01016873661683)\n",
        "end26= endB.copy().crop(tmin=117.76327537473253, tmax=121)\n",
        "end27= endB.copy().crop(tmin=121.24982155603129)\n",
        "end28= endB.copy().crop(tmin=110.68964111349123, tmax=116.18415417558845)\n",
        "end29= endB.copy().crop(tmin=116.54389721627376, tmax=117.15488936473957)\n",
        "end30= endB.copy().crop(tmin=118.20556745182057)'''\n",
        "\n",
        "endB_cut = mne.concatenate_raws([end1,end2,end3,end4,end5,end6,end7]) #,end8,end9,end10,end11,end12,end13,end14,end15,end16,end17,end18,end19,end20,end21,end22,end23,end24,end25,end26,end27,end28,end29,end30])\n",
        "del(end1,end2,end3,end4,end5,end6,end7) #,end8,end9,end10,end11,end12,end13,end14,end15,end16,end17,end18,end19,end20,end21,end22,end23,end24,end25,end26,end27,end28,end29,end30)"
      ]
    },
    {
      "cell_type": "code",
      "execution_count": null,
      "metadata": {
        "id": "fxVRgqbcRrsc"
      },
      "outputs": [],
      "source": [
        "#to see if correctly cut (optional)\n",
        "%matplotlib tk\n",
        "mne.viz.plot_raw(endB_cut, remove_dc=True)"
      ]
    },
    {
      "cell_type": "code",
      "execution_count": null,
      "metadata": {
        "id": "hOQVx4vcRrsc"
      },
      "outputs": [],
      "source": [
        "#save clean with best electrode\n",
        "endB_cut.save(clean_best_path + \"end_best_clean.fif\",  overwrite=True)"
      ]
    },
    {
      "cell_type": "code",
      "execution_count": null,
      "metadata": {
        "id": "5ea6VupxRrsc"
      },
      "outputs": [],
      "source": []
    }
  ],
  "metadata": {
    "kernelspec": {
      "display_name": "Python 3 (ipykernel)",
      "language": "python",
      "name": "python3"
    },
    "language_info": {
      "codemirror_mode": {
        "name": "ipython",
        "version": 3
      },
      "file_extension": ".py",
      "mimetype": "text/x-python",
      "name": "python",
      "nbconvert_exporter": "python",
      "pygments_lexer": "ipython3",
      "version": "3.12.4"
    },
    "colab": {
      "provenance": [],
      "include_colab_link": true
    }
  },
  "nbformat": 4,
  "nbformat_minor": 0
}